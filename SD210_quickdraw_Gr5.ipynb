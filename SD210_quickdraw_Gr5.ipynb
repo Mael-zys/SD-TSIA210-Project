{
  "nbformat": 4,
  "nbformat_minor": 0,
  "metadata": {
    "colab": {
      "name": "SD210_quickdraw_Gr5.ipynb",
      "provenance": [],
      "collapsed_sections": [
        "ldlcgmuGAPT2",
        "Q5E98nhDARh1",
        "sxFrWQM7AyOs",
        "iE3BuhobA3ak",
        "9A-M_IodAkl1",
        "m2qe6BkNFLxf",
        "aIMz_0fuGnZn",
        "GtJEIj0UHEKX",
        "31h1wrwtH7JX",
        "t0wfH46xIGFB",
        "2uFkBJmpHPD9",
        "Tg-ZKgtYJX-T",
        "P0ZMjA9vJX-U",
        "zCF1e6LnHFlv",
        "eU7LpNxPWA37",
        "kMm9BFtNJ20a",
        "vopQQ_vxJ20b",
        "g8cVMuuEvCmC",
        "0Wix_NHmYZT-",
        "fr4gr6cxaz4v",
        "7VHpkJz_bj9l",
        "q3khTjy0yNx1",
        "FJCU-QR_gmzP",
        "dGHZm0Iq3XWe",
        "hEcd6J7q5la_"
      ]
    },
    "kernelspec": {
      "name": "python3",
      "display_name": "Python 3"
    },
    "language_info": {
      "name": "python"
    },
    "accelerator": "GPU"
  },
  "cells": [
    {
      "cell_type": "code",
      "metadata": {
        "colab": {
          "base_uri": "https://localhost:8080/"
        },
        "id": "1F7OxkYt7Ru2",
        "outputId": "16d6402e-09b5-418d-aa5d-cb7735c8a953"
      },
      "source": [
        "if 'google.colab' in str(get_ipython()):\n",
        "  from google_drive_downloader import GoogleDriveDownloader as gdd\n",
        "  gdd.download_file_from_google_drive(file_id='1viFv3uHGfNuq5olNqr80ekx9S42-9nNS',\n",
        "  dest_path='./G_5_ant.npy')\n",
        "  gdd.download_file_from_google_drive(file_id='1gumKga3nqan9WsBWcE_oxMSGc7nXXxtN',\n",
        "  dest_path='./G_5_grapes.npy')\n",
        "  gdd.download_file_from_google_drive(file_id='1a6ODxI7BxGkUH6qpRiyRa5bbOa-3hKE7',\n",
        "  dest_path='./test_image.npy')\n",
        "  gdd.download_file_from_google_drive(file_id='1yTInjFZl6VD71w7O6IZPxrX76xhR-8L9',\n",
        "  dest_path='./test_label.npy')\n",
        "else:\n",
        "  print('You are not using Colab. Please define working_dir with the absolute path to the folder where you downloaded the data')\n",
        "\n",
        "# Please modify working_dir only if you are using your Anaconda (and not Google Colab)\n",
        "# You should write the absolute path of your working directory with the data\n",
        "Working_directory=\"./\" "
      ],
      "execution_count": null,
      "outputs": [
        {
          "output_type": "stream",
          "text": [
            "Downloading 1viFv3uHGfNuq5olNqr80ekx9S42-9nNS into ./G_5_ant.npy... Done.\n",
            "Downloading 1gumKga3nqan9WsBWcE_oxMSGc7nXXxtN into ./G_5_grapes.npy... Done.\n",
            "Downloading 1a6ODxI7BxGkUH6qpRiyRa5bbOa-3hKE7 into ./test_image.npy... Done.\n",
            "Downloading 1yTInjFZl6VD71w7O6IZPxrX76xhR-8L9 into ./test_label.npy... Done.\n"
          ],
          "name": "stdout"
        }
      ]
    },
    {
      "cell_type": "code",
      "metadata": {
        "id": "XsXDBrL-7ZlK"
      },
      "source": [
        "import numpy as np\n",
        "import pandas as pd\n",
        "from time import time\n",
        "\n",
        "import itertools\n",
        "from sklearn.model_selection import train_test_split\n",
        "from sklearn.metrics.pairwise import paired_distances\n",
        "from sklearn.model_selection import  cross_val_score, cross_validate, GridSearchCV, KFold, StratifiedKFold, RandomizedSearchCV\n",
        "from sklearn.metrics import classification_report\n",
        "from sklearn.utils.multiclass import unique_labels\n",
        "from sklearn.metrics import confusion_matrix\n",
        "from sklearn.discriminant_analysis import LinearDiscriminantAnalysis\n",
        "from sklearn.discriminant_analysis import QuadraticDiscriminantAnalysis\n",
        "from sklearn.naive_bayes import GaussianNB\n",
        "from sklearn.linear_model import LogisticRegression\n",
        "from sklearn.neighbors import KNeighborsClassifier\n",
        "from sklearn import decomposition\n",
        "from sklearn.preprocessing import StandardScaler, MinMaxScaler\n",
        "import matplotlib.pyplot as plt\n",
        "# this is needed to plot figures within the notebook\n",
        "%matplotlib inline \n",
        "np.random.seed(seed=666)\n",
        "\n",
        "import warnings\n",
        "warnings.filterwarnings(\"ignore\", category=DeprecationWarning)\n",
        "warnings.simplefilter(action='ignore', category=FutureWarning)\n",
        "from sklearn.exceptions import ConvergenceWarning\n",
        "warnings.filterwarnings(action='ignore', category=ConvergenceWarning)\n",
        "from sklearn.decomposition import PCA\n",
        "from sklearn.ensemble import RandomForestClassifier\n",
        "from sklearn.neural_network import MLPClassifier\n",
        "from xgboost import XGBClassifier\n",
        "from sklearn.svm import SVC\n",
        "from sklearn.metrics import f1_score"
      ],
      "execution_count": null,
      "outputs": []
    },
    {
      "cell_type": "markdown",
      "metadata": {
        "id": "ldlcgmuGAPT2"
      },
      "source": [
        "# Read data"
      ]
    },
    {
      "cell_type": "code",
      "metadata": {
        "colab": {
          "base_uri": "https://localhost:8080/"
        },
        "id": "lKpyGEaL7c9p",
        "outputId": "37b045e5-5bed-46e5-c5a0-99b98d0d73bf"
      },
      "source": [
        "# read data\n",
        "ant = np.load('G_5_ant.npy')\n",
        "grapes = np.load('G_5_grapes.npy')\n",
        "X_test = np.load('test_image.npy')\n",
        "y_test = np.load('test_label.npy')\n",
        "print(ant.shape)\n",
        "print(grapes.shape)\n",
        "print(X_test.shape, y_test.shape)"
      ],
      "execution_count": null,
      "outputs": [
        {
          "output_type": "stream",
          "text": [
            "(1000, 784)\n",
            "(1000, 784)\n",
            "(1000, 784) (1000,)\n"
          ],
          "name": "stdout"
        }
      ]
    },
    {
      "cell_type": "code",
      "metadata": {
        "colab": {
          "base_uri": "https://localhost:8080/"
        },
        "id": "4kVEvNcZVjbD",
        "outputId": "2f6975d7-a547-45a1-a5b3-795c616256c4"
      },
      "source": [
        "print(ant[0])\n",
        "print(grapes[0])"
      ],
      "execution_count": null,
      "outputs": [
        {
          "output_type": "stream",
          "text": [
            "[  0   0   0   0   0   0   0   0   0   0   0   0   0   0   0   0   0   0\n",
            "   0   0   0   0   0   0   0   0   0   0   0   0   0   0   3  18   0   0\n",
            "   0   0   0   0   0   0   0   0   0   0   0   0   0   0   0   0   0   0\n",
            "   0   0   0   0   0  98 222 241  31   0   0   0   0   0   0   0   0   0\n",
            "   0   0   0   0   0   0   0   0   0   0   0   0   0   0   3 236 255 249\n",
            " 181   0   0   0   0   0   0   0   0   0   0   0   0   0   0   0   0   0\n",
            "   0   0   0   0   0   0   0   7  13 132 254   0   0   0   0   0   0   0\n",
            "   0   0   0   0   0   0   0   0   0   0   0   0   0   0   0   0   0   0\n",
            "   0 122 255   0   0   0   0   0   0   0   0   0   0   0   0   0   0   0\n",
            "   0   0   0   0   0   0   0   0   0   0   0 122 255   0   0   0   0   0\n",
            "   0   0   0   0   0   0   0   0   0   0   0   0   0   0   0   0   0   0\n",
            "   0   0   0 122 255   0   0   0   0   0   0   0   0   0   0   0   0   0\n",
            "   0   0   0   0   0   0   0   0   0   0   0   0   0 122 255   0   0   0\n",
            "   0   0   0   0   0   0   0   0   0   0   0   0   0   0   0   0   0   0\n",
            "   0   0   0   0   0 122 255   0   0   0   0   0   0   0   0   0   0   0\n",
            "   0   0   0   0   0   0   0   0   0   0   0   0   0   0   0 122 255   0\n",
            "   0   0   0  22 114 146 134  97  85  85  85  76  50  26   2   0   0   0\n",
            "   0   0   0   0   0   0   0 210 255 238 213 141 100 230 253 232 244 254\n",
            " 255 255 255 255 255 255 219  44   0   0   0   0   0   0   0   0   0 207\n",
            " 255 155 237 255 255 231  94   0  12 215 233 234  34  47  74  99 223 220\n",
            "  11   0   0   0   0   0   0   0  87 254 143   6 246 250 161   0   0   0\n",
            "   0 116 254 209   0   0   0   0  54 251 143   0   0   0   0   0   0   0\n",
            " 211 206   4   0 188 249 152   0   0   0   0  61 255 194   0   0   0   0\n",
            "   0 169 213   0   0   0   0   0   0   0 186 254 171 153 203 255 118   0\n",
            "   0   0   0 120 255 216  25   0   0   0   0 134 243   0   0   0   0   0\n",
            "   0   0   5 134 219 221 227 255 169  40 181  87   6 249 255 251 251 179\n",
            "  96  85  85 172 248   5   0   0   0   0   0   0   0   0   0   0   0 133\n",
            " 255 255 255 242 164 219 255 162 127 220 255 255 255 255 130   0   0   0\n",
            "   0   0   0   0   0   0   0   0   0   1  59  81 246 233 251 251 220 255\n",
            " 189  26  31  34  34  26   0   0   0   0   0   0   0   0   0   0   0   0\n",
            "   0   0   0   0 239 198 244   7   0  87 241 233  64   0   0   0   0   0\n",
            "   0   0   0   0   0   0   0   0   0   0   0   0   0   0 239 191 254  28\n",
            "   0   0  35 200 148   0   0   0   0   0   0   0   0   0   0   0   0   0\n",
            "   0   0   0   0   0   0 239 152 239 193   4   0   0   0   0   0   0   0\n",
            "   0   0   0   0   0   0   0   0   0   0   0   0   0   0   0   0 239 137\n",
            "  83 255 130   0   0   0   0   0   0   0   0   0   0   0   0   0   0   0\n",
            "   0   0   0   0   0   0   0   0 239 137   0 148 253  16   0   0   0   0\n",
            "   0   0   0   0   0   0   0   0   0   0   0   0   0   0   0   0   0   0\n",
            " 239 137   0   4  57   0   0   0   0   0   0   0   0   0   0   0   0   0\n",
            "   0   0   0   0   0   0   0   0   0   0 223 122   0   0   0   0   0   0\n",
            "   0   0   0   0   0   0   0   0   0   0   0   0   0   0   0   0   0   0\n",
            "   0   0  17   4   0   0   0   0   0   0   0   0   0   0   0   0   0   0\n",
            "   0   0   0   0   0   0   0   0   0   0   0   0   0   0   0   0   0   0\n",
            "   0   0   0   0   0   0   0   0   0   0]\n",
            "[  0   0   0   0   0   0   0   0   0   0   0   0   0   0   0   0   0   0\n",
            "   0   0   0   0   0   0   0   0   0   0   0   0   0   0   0   0   0   0\n",
            "   0   0   0   0  81  90   1   0   0   0   0   0   0   0   0   0   0   0\n",
            "   0   0   0   0   0   0   0   0   0   0   0   0   0   1 245 255  59   0\n",
            "   0   0   0   0   0   0   0   0   0   0   0   0   0   0   0   0   0   0\n",
            "   0   0   0   0   0  21 255 255 117   0   0   0   0   0   0   0   0   0\n",
            "   0   0   0   0   0   0   0   0   0   0   0   0   0   0   0   2 231 255\n",
            " 172   0   0   0   0   0   0   0   0   0   0   0   0   0   0   0   0   0\n",
            "   0   0   0   0   0   0   0   0 154 255 188   0   0   0   0   0   0   0\n",
            "   0   0   0   0   0   0   0   0   0   0   0   0   0   0   0   0   0   0\n",
            "  75 255 188   0   0   0   0   0   0   0   0   0   0   0   0   0   0   0\n",
            "   0   0   0   0   0   0   0   0   0   0   8 247 188   0   0   0   0   0\n",
            "   0   0   0   0   0   0   0   0   0   0   0   0   0   0   0   0   0   0\n",
            "   0   0   0 235 188   0   0   0   0   0   0   0   0   0   0   0   0   0\n",
            "   0   0   0   0   0   0   0   0   0   0   0   0   0 235 188   0   0   0\n",
            "   0   0   0   0   0   0   0   0   0   0   0   0   0   0   0   0   0   0\n",
            "   0   0   0   0   0 235 188   0   0   0   0   0   0   0   0   0   0   0\n",
            "   0   0   0   0   0   0   0   0   0   0   0   0   0   0   0 235 188   0\n",
            "   0   0   0   0   0   0   0   0   0   0   0   0   0   0   9 117  80  24\n",
            "   0   0   0   0   0   1  73 238 216 132  58   0   0   0   0   0   0   0\n",
            "   0   0   0   0   0   0 140 255 255 255 224 167 111  34  59 208 255 255\n",
            " 255 255 244  36   0   0   0   0   0   0   0   0   0   0   0   0 123 114\n",
            "  49 106 161 217 255 253 214 216 250 128   0 108 255 227 221 226 238 224\n",
            " 142  47   0   0   0   0   0   0   0   0   0   0  36 174 254 255 255 255\n",
            " 248 178   0 208 255 193 157 153 137 167 246 255 183  10   0   0   0   0\n",
            "   0   0   0   3 215 236 120  68  68 111 245 255 243 249 251   6   0   0\n",
            "   0   0  14 108 251 125   0   0   0   0   0   0   0  27 255 102   0   0\n",
            "  10  48  48 254 255 255 246   0   0   0   0   0   0   0 206 174   0   0\n",
            "   0   0   0   0   0  15 250 195 153 153 218 255 221 255 255 246 253 185\n",
            " 230 133  10   0   0  32 240 168   0   0   0   0   0   0   0   0 116 221\n",
            " 221 221 246 248 249 255 241 255 255 255 255 255 242 178 136 210 236  27\n",
            "   0   0   0   0   0   0   0   0   0   0   0   0 190 249 254 255 255 253\n",
            " 255 133 249 252 251 255 251 227  61   0   0   0   0   0   0   0   0   0\n",
            "   0   0   0   0  47 242 255 222 208 245 255  79 228 163   1  89 226 254\n",
            " 147   0   0   0   0   0   0   0   0   0   0   0   0   0 106 255 255 140\n",
            "   0 177 255 232 252 105 167   5  10 175 245   0   0   0   0   0   0   0\n",
            "   0   0   0   0   0   0 118 255 255 121  56 252 203 250 132 244 203   4\n",
            "  74 234 206   0   0   0   0   0   0   0   0   0   0   0   0   0 105 255\n",
            " 253 188 230 218   9   7  83 255  65 156 255 203  30   0   0   0   0   0\n",
            "   0   0   0   0   0   0   0   0  20  92 128 254 204  38   0   0  93 255\n",
            " 255 250 125   4   0   0   0   0   0   0   0   0   0   0   0   0   0   0\n",
            "   0   0   0   0   0   0   0   0   0  65 119  46   0   0   0   0   0   0\n",
            "   0   0   0   0   0   0   0   0   0   0   0   0   0   0   0   0   0   0\n",
            "   0   0   0   0   0   0   0   0   0   0]\n"
          ],
          "name": "stdout"
        }
      ]
    },
    {
      "cell_type": "markdown",
      "metadata": {
        "id": "MrTorZ9RVpM5"
      },
      "source": [
        "The data are rather sparse"
      ]
    },
    {
      "cell_type": "code",
      "metadata": {
        "colab": {
          "base_uri": "https://localhost:8080/",
          "height": 264
        },
        "id": "JMyxkD1wQYFF",
        "outputId": "cbb843c8-3c67-452a-e2ba-8fe5e527ca2c"
      },
      "source": [
        "# visualize some train data\n",
        "num = 4\n",
        "\n",
        "for i in range(num):\n",
        "  plt.subplot(num, 2, 2*i+1)\n",
        "  plt.imshow(ant[i].reshape(28,28), cmap='gray')\n",
        "  plt.axis('off')\n",
        "  if i == 0:\n",
        "    plt.title('ant')\n",
        "  plt.subplot(num, 2, (i+1)*2)\n",
        "  plt.imshow(grapes[i].reshape(28,28), cmap='gray')\n",
        "  plt.axis('off')\n",
        "  if i == 0:\n",
        "    plt.title('grapes')\n",
        "plt.show()"
      ],
      "execution_count": null,
      "outputs": [
        {
          "output_type": "display_data",
          "data": {
            "image/png": "[encoded data removed]",
            "text/plain": [
              "<Figure size 432x288 with 8 Axes>"
            ]
          },
          "metadata": {
            "tags": [],
            "needs_background": "light"
          }
        }
      ]
    },
    {
      "cell_type": "markdown",
      "metadata": {
        "id": "Rqdy9l4lS67c"
      },
      "source": [
        "**Comment:**\n",
        "\n",
        "There are too many features, and too many nuisance variables. Therefore, it's necessary use some methods to reduce the dimensions later.\n",
        "\n",
        "One of the difficulties is too select the most important features."
      ]
    },
    {
      "cell_type": "code",
      "metadata": {
        "id": "Mx-kXzYb7nhV"
      },
      "source": [
        "# label 0 means ant, 1 means grapes\n",
        "\n",
        "X = np.vstack((ant, grapes))\n",
        "y = np.zeros(2000)\n",
        "y[1000:] = 1\n"
      ],
      "execution_count": null,
      "outputs": []
    },
    {
      "cell_type": "code",
      "metadata": {
        "id": "WVmfrn4Z-mBa",
        "colab": {
          "base_uri": "https://localhost:8080/"
        },
        "outputId": "c804bd78-aa64-4c31-d49f-193e25664989"
      },
      "source": [
        "# shuffle the data\n",
        "indices = np.random.permutation(X.shape[0])\n",
        "print(len(indices))\n",
        "X_train = X[indices, :]\n",
        "y_train = y[indices]\n",
        "print(X_train.shape, y_train.shape)"
      ],
      "execution_count": null,
      "outputs": [
        {
          "output_type": "stream",
          "text": [
            "2000\n",
            "(2000, 784) (2000,)\n"
          ],
          "name": "stdout"
        }
      ]
    },
    {
      "cell_type": "markdown",
      "metadata": {
        "id": "Q5E98nhDARh1"
      },
      "source": [
        "# Preprocessing"
      ]
    },
    {
      "cell_type": "markdown",
      "metadata": {
        "id": "sxFrWQM7AyOs"
      },
      "source": [
        "## Scale data"
      ]
    },
    {
      "cell_type": "markdown",
      "metadata": {
        "id": "MydmdoayqxTr"
      },
      "source": [
        "First scale the data, because if we want to use some methods like PCA, it's necessary to center the data."
      ]
    },
    {
      "cell_type": "code",
      "metadata": {
        "id": "K2WsoR2SA002"
      },
      "source": [
        "scaler = StandardScaler()\n",
        "scaler.fit(X_train)\n",
        "X_train_scale = scaler.transform(X_train)\n",
        "X_test_scale = scaler.transform(X_test)"
      ],
      "execution_count": null,
      "outputs": []
    },
    {
      "cell_type": "markdown",
      "metadata": {
        "id": "iE3BuhobA3ak"
      },
      "source": [
        "## Feature selections"
      ]
    },
    {
      "cell_type": "markdown",
      "metadata": {
        "id": "bOxSGsW1Ag3F"
      },
      "source": [
        "If we use some traditional ML methods, it's important to reduce the dimension by removing most nuisance variables. Otherwise, the execution time is too large and the performance won't be good."
      ]
    },
    {
      "cell_type": "markdown",
      "metadata": {
        "id": "9A-M_IodAkl1"
      },
      "source": [
        "### PCA"
      ]
    },
    {
      "cell_type": "markdown",
      "metadata": {
        "id": "9vgTIikDEhZX"
      },
      "source": [
        "The simplest way is to apply PCA to select features\n",
        "\n",
        "By doing some experience, we find we cannot choose a large number of components for PCA. If n_components is large, there may be too many nuisance variables, the performance of our model will decrease."
      ]
    },
    {
      "cell_type": "code",
      "metadata": {
        "id": "xqXkkiz6_JRl",
        "colab": {
          "base_uri": "https://localhost:8080/"
        },
        "outputId": "ee9216f0-6792-4c3e-9e25-88bdcee2a94f"
      },
      "source": [
        "pca = PCA(n_components=200,svd_solver='randomized', whiten=True)\n",
        "pca.fit(X_train_scale)\n",
        "\n",
        "X_train_pca = pca.transform(X_train_scale)\n",
        "X_test_pca = pca.transform(X_test_scale)\n",
        "print(np.sum(pca.explained_variance_ratio_))"
      ],
      "execution_count": null,
      "outputs": [
        {
          "output_type": "stream",
          "text": [
            "0.881367534154416\n"
          ],
          "name": "stdout"
        }
      ]
    },
    {
      "cell_type": "markdown",
      "metadata": {
        "id": "m2qe6BkNFLxf"
      },
      "source": [
        "### Random Forest"
      ]
    },
    {
      "cell_type": "markdown",
      "metadata": {
        "id": "g1NEN5MVF3av"
      },
      "source": [
        "We can also use RF to select important features by using the feature_importance proporty.\n",
        "\n",
        "Here we choose the 300 features whose feature_importance are large."
      ]
    },
    {
      "cell_type": "code",
      "metadata": {
        "id": "BvxJB8UI_Lve",
        "colab": {
          "base_uri": "https://localhost:8080/"
        },
        "outputId": "33d2a6d1-685a-4b9d-ce34-a9e6a3c90c49"
      },
      "source": [
        "n_component = 300\n",
        "\n",
        "model = RandomForestClassifier(n_jobs=8, random_state=0)\n",
        "model.fit(X_train_scale, y_train.ravel())\n",
        "\n",
        "feature_importance = model.feature_importances_\n",
        "index = np.argsort(feature_importance)[-1:-n_component-1:-1]\n",
        "\n",
        "X_train_RF = X_train_scale[:, index]\n",
        "X_test_RF = X_test_scale[:, index]\n",
        "\n",
        "print(np.sum(feature_importance[index]))"
      ],
      "execution_count": null,
      "outputs": [
        {
          "output_type": "stream",
          "text": [
            "0.816801155670825\n"
          ],
          "name": "stdout"
        }
      ]
    },
    {
      "cell_type": "markdown",
      "metadata": {
        "id": "aIMz_0fuGnZn"
      },
      "source": [
        "# Classifier"
      ]
    },
    {
      "cell_type": "markdown",
      "metadata": {
        "id": "GtJEIj0UHEKX"
      },
      "source": [
        "## SVM"
      ]
    },
    {
      "cell_type": "markdown",
      "metadata": {
        "id": "r8IQx0HCUByc"
      },
      "source": [
        "SVM is a rather simple but useful classifier, so we try SVM first.\n",
        "\n",
        "I use RandomizedSearchCV, because it's faster than GridSearchCV"
      ]
    },
    {
      "cell_type": "code",
      "metadata": {
        "id": "KqUn1eFqGiGm"
      },
      "source": [
        "p_grid_lsvm = {'C': [1e-3,1e-2,0.05,1e-1,0.5,1,2,5,1e1,1e2,15,20,40,60,80,120,140],\n",
        "                'gamma': [0.0001, 0.0005, 0.001, 0.005, 0.01, 0.1, 1,2,4,8,10,15,20,30,40,50,60], }\n",
        "Lsvm = SVC(kernel='rbf')\n",
        "grid_lsvm = RandomizedSearchCV(estimator=Lsvm, param_distributions=p_grid_lsvm, scoring='f1', cv=5, n_jobs=8)\n"
      ],
      "execution_count": null,
      "outputs": []
    },
    {
      "cell_type": "markdown",
      "metadata": {
        "id": "9a_QSo7rUOuK"
      },
      "source": [
        "Here, we want to try the PCA preprocessed data and RF preprocessed data to compare the performance."
      ]
    },
    {
      "cell_type": "markdown",
      "metadata": {
        "id": "31h1wrwtH7JX"
      },
      "source": [
        "### PCA preprocessed data"
      ]
    },
    {
      "cell_type": "code",
      "metadata": {
        "colab": {
          "base_uri": "https://localhost:8080/"
        },
        "id": "rMObSEI-H6CH",
        "outputId": "986c0038-3fcc-44ba-b653-485d1baec4c5"
      },
      "source": [
        "grid_lsvm.fit(X_train_pca, y_train.ravel())\n",
        "test_score = grid_lsvm.score(X_test_pca, y_test.ravel())\n",
        "\n",
        "print(\"Best training Score: {}\".format(grid_lsvm.best_score_))\n",
        "print(\"Best training params: {}\".format(grid_lsvm.best_params_))\n",
        "print(\"Test score: {}\".format(test_score))"
      ],
      "execution_count": null,
      "outputs": [
        {
          "output_type": "stream",
          "text": [
            "Best training Score: 0.8532808889985759\n",
            "Best training params: {'gamma': 0.005, 'C': 10.0}\n",
            "Test score: 0.8275862068965517\n"
          ],
          "name": "stdout"
        }
      ]
    },
    {
      "cell_type": "markdown",
      "metadata": {
        "id": "t0wfH46xIGFB"
      },
      "source": [
        "### RF preprocessed data"
      ]
    },
    {
      "cell_type": "code",
      "metadata": {
        "colab": {
          "base_uri": "https://localhost:8080/"
        },
        "id": "Prs6W0qeI1AZ",
        "outputId": "c6391734-3b7e-4c00-85d9-f3b9f608c858"
      },
      "source": [
        "grid_lsvm.fit(X_train_RF, y_train.ravel())\n",
        "test_score = grid_lsvm.score(X_test_RF, y_test.ravel())\n",
        "\n",
        "print(\"Best training Score: {}\".format(grid_lsvm.best_score_))\n",
        "print(\"Best training params: {}\".format(grid_lsvm.best_params_))\n",
        "print(\"Test score: {}\".format(test_score))"
      ],
      "execution_count": null,
      "outputs": [
        {
          "output_type": "stream",
          "text": [
            "Best training Score: 0.8908932499278963\n",
            "Best training params: {'gamma': 0.005, 'C': 80}\n",
            "Test score: 0.8642714570858283\n"
          ],
          "name": "stdout"
        }
      ]
    },
    {
      "cell_type": "markdown",
      "metadata": {
        "id": "admzbT6DshVD"
      },
      "source": [
        "Comparing the 2 results, we can find that the SVM can have a very good result on this dataset, and the RF preprocessed data can have larger train and test scores. "
      ]
    },
    {
      "cell_type": "markdown",
      "metadata": {
        "id": "2uFkBJmpHPD9"
      },
      "source": [
        "## Boost"
      ]
    },
    {
      "cell_type": "code",
      "metadata": {
        "id": "y9sPVXZHHDEN"
      },
      "source": [
        "XGB = XGBClassifier()\n",
        "p_grid_xgb = dict(\n",
        "    max_depth = [4, 5, 6, 7],\n",
        "    learning_rate = np.linspace(0.03, 0.3, 10),\n",
        "    n_estimators = [100, 200]\n",
        ")\n",
        "\n",
        "grid_xgb = RandomizedSearchCV(estimator=XGB, param_distributions=p_grid_xgb, scoring='f1', cv=5, n_jobs = 8)"
      ],
      "execution_count": null,
      "outputs": []
    },
    {
      "cell_type": "markdown",
      "metadata": {
        "id": "Tg-ZKgtYJX-T"
      },
      "source": [
        "### PCA preprocessed data"
      ]
    },
    {
      "cell_type": "code",
      "metadata": {
        "colab": {
          "base_uri": "https://localhost:8080/"
        },
        "id": "vbj6CiAgJX-T",
        "outputId": "2b2943d7-523a-4ad6-9c8a-1b616f33e4ca"
      },
      "source": [
        "grid_xgb.fit(X_train_pca, y_train.ravel())\n",
        "test_score = grid_xgb.score(X_test_pca, y_test.ravel())\n",
        "\n",
        "print(\"Best training Score: {}\".format(grid_xgb.best_score_))\n",
        "print(\"Best training params: {}\".format(grid_xgb.best_params_))\n",
        "print(\"Test score: {}\".format(test_score))"
      ],
      "execution_count": null,
      "outputs": [
        {
          "output_type": "stream",
          "text": [
            "Best training Score: 0.8786026537458913\n",
            "Best training params: {'n_estimators': 200, 'max_depth': 5, 'learning_rate': 0.21000000000000002}\n",
            "Test score: 0.850597609561753\n"
          ],
          "name": "stdout"
        }
      ]
    },
    {
      "cell_type": "markdown",
      "metadata": {
        "id": "P0ZMjA9vJX-U"
      },
      "source": [
        "### RF preprocessed data"
      ]
    },
    {
      "cell_type": "code",
      "metadata": {
        "colab": {
          "base_uri": "https://localhost:8080/"
        },
        "id": "WJeL52MoJX-U",
        "outputId": "116ab215-7934-4b72-ea78-b64d9297431c"
      },
      "source": [
        "grid_xgb.fit(X_train_RF, y_train.ravel())\n",
        "test_score = grid_xgb.score(X_test_RF, y_test.ravel())\n",
        "\n",
        "print(\"Best training Score: {}\".format(grid_xgb.best_score_))\n",
        "print(\"Best training params: {}\".format(grid_xgb.best_params_))\n",
        "print(\"Test score: {}\".format(test_score))"
      ],
      "execution_count": null,
      "outputs": [
        {
          "output_type": "stream",
          "text": [
            "Best training Score: 0.8879293681811647\n",
            "Best training params: {'n_estimators': 100, 'max_depth': 7, 'learning_rate': 0.12000000000000001}\n",
            "Test score: 0.8519637462235649\n"
          ],
          "name": "stdout"
        }
      ]
    },
    {
      "cell_type": "markdown",
      "metadata": {
        "id": "JqWrCnJrtG8r"
      },
      "source": [
        "I find on the Internet that the boosting method will generally better than SVM. But here, the result of boosting methode is even slightly lower than SVM. Maybe it's because I have choose a good candidate hyperparameter list for boosting, while I choose a large candidate list for SVM."
      ]
    },
    {
      "cell_type": "markdown",
      "metadata": {
        "id": "zCF1e6LnHFlv"
      },
      "source": [
        "## MLP from sklearn"
      ]
    },
    {
      "cell_type": "markdown",
      "metadata": {
        "id": "t2PJC63Uus2y"
      },
      "source": [
        "In our course, we use tensorflow to implement MLP, but I also find that sklearn has a MLPClassifier, so I just want to have a try."
      ]
    },
    {
      "cell_type": "code",
      "metadata": {
        "id": "jOOWMFgpJnQI"
      },
      "source": [
        "MLP = MLPClassifier(activation='relu', alpha=1e-4, batch_size='auto', beta_1=0.9,\n",
        "       beta_2=0.999, early_stopping=False, epsilon=1e-08,\n",
        "       hidden_layer_sizes=(256,256,128), \n",
        "       learning_rate_init=0.01, max_iter=1000, momentum=0.9,\n",
        "       nesterovs_momentum=True, power_t=0.5, random_state=1, shuffle=True,\n",
        "       tol=0.0001, validation_fraction=0.1,\n",
        "       warm_start=False, verbose=10)\n",
        "\n",
        "p_grid_mlp = {'solver': ['adam', 'sgd'], 'learning_rate' : ['adaptive', 'constant']}\n",
        "grid_mlp = RandomizedSearchCV(estimator=MLP, param_distributions=p_grid_mlp, scoring='f1', cv=5, n_jobs = 8)"
      ],
      "execution_count": null,
      "outputs": []
    },
    {
      "cell_type": "markdown",
      "metadata": {
        "id": "eU7LpNxPWA37"
      },
      "source": [
        "### Original dimension"
      ]
    },
    {
      "cell_type": "code",
      "metadata": {
        "colab": {
          "base_uri": "https://localhost:8080/"
        },
        "id": "leijssE3WJej",
        "outputId": "ebdf8eea-48aa-4236-dd6b-97f14cf47284"
      },
      "source": [
        "grid_mlp.fit(X_train_scale, y_train.ravel())\n",
        "test_score = grid_mlp.score(X_test_scale, y_test.ravel())\n",
        "\n",
        "print(\"Best training Score: {}\".format(grid_mlp.best_score_))\n",
        "print(\"Best training params: {}\".format(grid_mlp.best_params_))\n",
        "print(\"Test score: {}\".format(test_score))"
      ],
      "execution_count": null,
      "outputs": [
        {
          "output_type": "stream",
          "text": [
            "/usr/local/lib/python3.7/dist-packages/sklearn/model_selection/_search.py:281: UserWarning: The total space of parameters 4 is smaller than n_iter=10. Running 4 iterations. For exhaustive searches, use GridSearchCV.\n",
            "  % (grid_size, self.n_iter, grid_size), UserWarning)\n"
          ],
          "name": "stderr"
        },
        {
          "output_type": "stream",
          "text": [
            "Iteration 1, loss = 0.63299174\n",
            "Iteration 2, loss = 0.39612204\n",
            "Iteration 3, loss = 0.32608897\n",
            "Iteration 4, loss = 0.28507113\n",
            "Iteration 5, loss = 0.25161340\n",
            "Iteration 6, loss = 0.22692375\n",
            "Iteration 7, loss = 0.20223415\n",
            "Iteration 8, loss = 0.17961521\n",
            "Iteration 9, loss = 0.15810022\n",
            "Iteration 10, loss = 0.13930143\n",
            "Iteration 11, loss = 0.12122790\n",
            "Iteration 12, loss = 0.10547915\n",
            "Iteration 13, loss = 0.08988902\n",
            "Iteration 14, loss = 0.07705874\n",
            "Iteration 15, loss = 0.06559039\n",
            "Iteration 16, loss = 0.05511256\n",
            "Iteration 17, loss = 0.04712672\n",
            "Iteration 18, loss = 0.03945287\n",
            "Iteration 19, loss = 0.03312853\n",
            "Iteration 20, loss = 0.02789043\n",
            "Iteration 21, loss = 0.02379175\n",
            "Iteration 22, loss = 0.02017064\n",
            "Iteration 23, loss = 0.01710608\n",
            "Iteration 24, loss = 0.01478470\n",
            "Iteration 25, loss = 0.01272773\n",
            "Iteration 26, loss = 0.01110543\n",
            "Iteration 27, loss = 0.00972781\n",
            "Iteration 28, loss = 0.00857734\n",
            "Iteration 29, loss = 0.00769563\n",
            "Iteration 30, loss = 0.00685997\n",
            "Iteration 31, loss = 0.00618679\n",
            "Iteration 32, loss = 0.00562458\n",
            "Iteration 33, loss = 0.00516134\n",
            "Iteration 34, loss = 0.00475321\n",
            "Iteration 35, loss = 0.00438660\n",
            "Iteration 36, loss = 0.00406546\n",
            "Iteration 37, loss = 0.00379123\n",
            "Iteration 38, loss = 0.00353775\n",
            "Iteration 39, loss = 0.00332285\n",
            "Iteration 40, loss = 0.00311527\n",
            "Iteration 41, loss = 0.00295155\n",
            "Iteration 42, loss = 0.00279089\n",
            "Iteration 43, loss = 0.00264404\n",
            "Iteration 44, loss = 0.00252130\n",
            "Iteration 45, loss = 0.00240147\n",
            "Iteration 46, loss = 0.00230659\n",
            "Iteration 47, loss = 0.00218391\n",
            "Iteration 48, loss = 0.00209467\n",
            "Iteration 49, loss = 0.00201218\n",
            "Iteration 50, loss = 0.00193123\n",
            "Iteration 51, loss = 0.00185788\n",
            "Iteration 52, loss = 0.00178976\n",
            "Iteration 53, loss = 0.00172553\n",
            "Iteration 54, loss = 0.00166779\n",
            "Iteration 55, loss = 0.00161310\n",
            "Iteration 56, loss = 0.00156095\n",
            "Iteration 57, loss = 0.00151347\n",
            "Iteration 58, loss = 0.00146872\n",
            "Training loss did not improve more than tol=0.000100 for 10 consecutive epochs. Stopping.\n",
            "Best training Score: 0.8749452521137719\n",
            "Best training params: {'solver': 'sgd', 'learning_rate': 'constant'}\n",
            "Test score: 0.8414755732801595\n"
          ],
          "name": "stdout"
        }
      ]
    },
    {
      "cell_type": "markdown",
      "metadata": {
        "id": "kMm9BFtNJ20a"
      },
      "source": [
        "### PCA preprocessed data"
      ]
    },
    {
      "cell_type": "code",
      "metadata": {
        "colab": {
          "base_uri": "https://localhost:8080/"
        },
        "id": "-5zlC_w6J20b",
        "outputId": "20a8482f-4bf6-4226-d58e-8afb8ac9daec"
      },
      "source": [
        "grid_mlp.fit(X_train_pca, y_train.ravel())\n",
        "test_score = grid_mlp.score(X_test_pca, y_test.ravel())\n",
        "\n",
        "print(\"Best training Score: {}\".format(grid_mlp.best_score_))\n",
        "print(\"Best training params: {}\".format(grid_mlp.best_params_))\n",
        "print(\"Test score: {}\".format(test_score))"
      ],
      "execution_count": null,
      "outputs": [
        {
          "output_type": "stream",
          "text": [
            "/usr/local/lib/python3.7/dist-packages/sklearn/model_selection/_search.py:281: UserWarning: The total space of parameters 4 is smaller than n_iter=10. Running 4 iterations. For exhaustive searches, use GridSearchCV.\n",
            "  % (grid_size, self.n_iter, grid_size), UserWarning)\n"
          ],
          "name": "stderr"
        },
        {
          "output_type": "stream",
          "text": [
            "Iteration 1, loss = 0.89814494\n",
            "Iteration 2, loss = 0.30825331\n",
            "Iteration 3, loss = 0.18784133\n",
            "Iteration 4, loss = 0.08140631\n",
            "Iteration 5, loss = 0.02977282\n",
            "Iteration 6, loss = 0.01633751\n",
            "Iteration 7, loss = 0.01709274\n",
            "Iteration 8, loss = 0.02511490\n",
            "Iteration 9, loss = 0.03686444\n",
            "Iteration 10, loss = 0.05250993\n",
            "Iteration 11, loss = 0.02693690\n",
            "Iteration 12, loss = 0.01859762\n",
            "Iteration 13, loss = 0.01003171\n",
            "Iteration 14, loss = 0.00684278\n",
            "Iteration 15, loss = 0.00831493\n",
            "Iteration 16, loss = 0.00493901\n",
            "Iteration 17, loss = 0.00717676\n",
            "Iteration 18, loss = 0.01940204\n",
            "Iteration 19, loss = 0.02295096\n",
            "Iteration 20, loss = 0.06523056\n",
            "Iteration 21, loss = 0.04835995\n",
            "Iteration 22, loss = 0.01980844\n",
            "Iteration 23, loss = 0.00842801\n",
            "Iteration 24, loss = 0.00442902\n",
            "Iteration 25, loss = 0.00641902\n",
            "Iteration 26, loss = 0.00194156\n",
            "Iteration 27, loss = 0.00103644\n",
            "Iteration 28, loss = 0.00060118\n",
            "Iteration 29, loss = 0.00052571\n",
            "Iteration 30, loss = 0.00049259\n",
            "Iteration 31, loss = 0.00047749\n",
            "Iteration 32, loss = 0.00047067\n",
            "Iteration 33, loss = 0.00046524\n",
            "Iteration 34, loss = 0.00046184\n",
            "Iteration 35, loss = 0.00045927\n",
            "Iteration 36, loss = 0.00045704\n",
            "Iteration 37, loss = 0.00045541\n",
            "Iteration 38, loss = 0.00045385\n",
            "Iteration 39, loss = 0.00045248\n",
            "Training loss did not improve more than tol=0.000100 for 10 consecutive epochs. Stopping.\n",
            "Best training Score: 0.836273769081683\n",
            "Best training params: {'solver': 'adam', 'learning_rate': 'adaptive'}\n",
            "Test score: 0.8153998025666338\n"
          ],
          "name": "stdout"
        }
      ]
    },
    {
      "cell_type": "markdown",
      "metadata": {
        "id": "vopQQ_vxJ20b"
      },
      "source": [
        "### RF preprocessed data"
      ]
    },
    {
      "cell_type": "code",
      "metadata": {
        "colab": {
          "base_uri": "https://localhost:8080/"
        },
        "id": "ekf5CwfKJ20b",
        "outputId": "2fb54630-94e8-43af-be04-fcc7331757c1"
      },
      "source": [
        "grid_mlp.fit(X_train_RF, y_train.ravel())\n",
        "test_score = grid_mlp.score(X_test_RF, y_test.ravel())\n",
        "\n",
        "print(\"Best training Score: {}\".format(grid_mlp.best_score_))\n",
        "print(\"Best training params: {}\".format(grid_mlp.best_params_))\n",
        "print(\"Test score: {}\".format(test_score))"
      ],
      "execution_count": null,
      "outputs": [
        {
          "output_type": "stream",
          "text": [
            "/usr/local/lib/python3.7/dist-packages/sklearn/model_selection/_search.py:281: UserWarning: The total space of parameters 4 is smaller than n_iter=10. Running 4 iterations. For exhaustive searches, use GridSearchCV.\n",
            "  % (grid_size, self.n_iter, grid_size), UserWarning)\n"
          ],
          "name": "stderr"
        },
        {
          "output_type": "stream",
          "text": [
            "Iteration 1, loss = 1.03740029\n",
            "Iteration 2, loss = 0.29554113\n",
            "Iteration 3, loss = 0.25376441\n",
            "Iteration 4, loss = 0.21105941\n",
            "Iteration 5, loss = 0.17371613\n",
            "Iteration 6, loss = 0.13824737\n",
            "Iteration 7, loss = 0.10085602\n",
            "Iteration 8, loss = 0.04891018\n",
            "Iteration 9, loss = 0.03979319\n",
            "Iteration 10, loss = 0.04057065\n",
            "Iteration 11, loss = 0.03821473\n",
            "Iteration 12, loss = 0.04321920\n",
            "Iteration 13, loss = 0.02603392\n",
            "Iteration 14, loss = 0.01904863\n",
            "Iteration 15, loss = 0.01206219\n",
            "Iteration 16, loss = 0.00912584\n",
            "Iteration 17, loss = 0.00521939\n",
            "Iteration 18, loss = 0.00369708\n",
            "Iteration 19, loss = 0.00224399\n",
            "Iteration 20, loss = 0.00089506\n",
            "Iteration 21, loss = 0.00194352\n",
            "Iteration 22, loss = 0.01870870\n",
            "Iteration 23, loss = 0.01790862\n",
            "Iteration 24, loss = 0.02428901\n",
            "Iteration 25, loss = 0.01426579\n",
            "Iteration 26, loss = 0.01538837\n",
            "Iteration 27, loss = 0.02072495\n",
            "Iteration 28, loss = 0.01946963\n",
            "Iteration 29, loss = 0.02087605\n",
            "Iteration 30, loss = 0.01392759\n",
            "Iteration 31, loss = 0.01083154\n",
            "Training loss did not improve more than tol=0.000100 for 10 consecutive epochs. Stopping.\n",
            "Best training Score: 0.8748740423327821\n",
            "Best training params: {'solver': 'adam', 'learning_rate': 'adaptive'}\n",
            "Test score: 0.8414755732801595\n"
          ],
          "name": "stdout"
        }
      ]
    },
    {
      "cell_type": "markdown",
      "metadata": {
        "id": "g8cVMuuEvCmC"
      },
      "source": [
        "### Comments"
      ]
    },
    {
      "cell_type": "markdown",
      "metadata": {
        "id": "vfvD33tmvG_5"
      },
      "source": [
        "From this 3 results, we can find that:\n",
        "\n",
        "1. For the methods like MLP, if we have a deep network, we can directly use the original data as input, and the result is as good as the result of RF preprocessed data.\n",
        "\n",
        "2. Maybe I haven't selected a good hyperparameter, the best performance of MLP is even lower to SVM"
      ]
    },
    {
      "cell_type": "markdown",
      "metadata": {
        "id": "0Wix_NHmYZT-"
      },
      "source": [
        "## MLP from tensorflow"
      ]
    },
    {
      "cell_type": "markdown",
      "metadata": {
        "id": "3emiAVruYdU0"
      },
      "source": [
        "Code is modified from the TP of our image course"
      ]
    },
    {
      "cell_type": "code",
      "metadata": {
        "colab": {
          "base_uri": "https://localhost:8080/"
        },
        "id": "oak6mMlhYcbG",
        "outputId": "9ec817db-0a46-4fae-a368-049a1c14f9bf"
      },
      "source": [
        "import tensorflow as tf\n",
        "\n",
        "# import tensorflow models\n",
        "from tensorflow.keras.models import Sequential, Model\n",
        "from tensorflow.keras.layers import Dense, Dropout, Activation, Flatten, Input, BatchNormalization\n",
        "from tensorflow.keras.layers import Conv2D, MaxPooling2D\n",
        "from tensorflow.keras import optimizers\n",
        "print(tf.keras.__version__)"
      ],
      "execution_count": null,
      "outputs": [
        {
          "output_type": "stream",
          "text": [
            "2.4.0\n"
          ],
          "name": "stdout"
        }
      ]
    },
    {
      "cell_type": "code",
      "metadata": {
        "colab": {
          "base_uri": "https://localhost:8080/"
        },
        "id": "VU0mBwQTYnQV",
        "outputId": "f95e472b-a936-497a-f63d-60a0fd6efb75"
      },
      "source": [
        "# Network Parameters\n",
        "n_hidden_1 = 256 # 1st layer number of neurons\n",
        "n_hidden_2 = 256 # 2nd layer number of neurons\n",
        "n_hidden_3 = 128 # 2nd layer number of neurons\n",
        "\n",
        "n_input = X_train.shape[1]\n",
        "\n",
        "# TO CODE BY STUDENTS\n",
        "\n",
        "\n",
        "model_mlp_multi_layer = Sequential()   # FILL IN STUDENTS\n",
        "model_mlp_multi_layer.add(Dense(n_hidden_1, input_shape=(n_input,)))\n",
        "model_mlp_multi_layer.add(BatchNormalization())\n",
        "model_mlp_multi_layer.add(Activation('relu'))\n",
        "model_mlp_multi_layer.add(Dense(n_hidden_2))\n",
        "model_mlp_multi_layer.add(BatchNormalization())\n",
        "model_mlp_multi_layer.add(Activation('relu'))\n",
        "model_mlp_multi_layer.add(Dense(n_hidden_3))\n",
        "model_mlp_multi_layer.add(BatchNormalization())\n",
        "model_mlp_multi_layer.add(Activation('relu'))\n",
        "model_mlp_multi_layer.add(Dense(1, activation='sigmoid'))\n",
        "\n",
        "# create the loss and optimiser, use 'binary_crossentropy' in loss\n",
        "learning_rate = 0.01\n",
        "model_mlp_multi_layer.compile(loss=\"binary_crossentropy\", optimizer=optimizers.Adam(lr=learning_rate),metrics=[\"accuracy\"])\n",
        "\n",
        "# Run optimisation algorithm\n",
        "n_epochs = 50\n",
        "batch_size = 64\n",
        "\n",
        "print('Training')\n",
        "model_mlp_multi_layer.fit(X_train_scale, y_train, epochs=n_epochs,batch_size=batch_size) # TO FILL IN\n",
        "\n",
        "print('Testing')\n",
        "y_pre = model_mlp_multi_layer.predict(X_test_scale) # TO FILL IN\n",
        "print(y_pre.shape)\n",
        "y_pre = np.around(y_pre)\n",
        "\n",
        "print(f1_score(y_test, y_pre.reshape(-1)))"
      ],
      "execution_count": null,
      "outputs": [
        {
          "output_type": "stream",
          "text": [
            "Training\n",
            "Epoch 1/50\n",
            "32/32 [==============================] - 4s 4ms/step - loss: 0.4543 - accuracy: 0.7882\n",
            "Epoch 2/50\n",
            "32/32 [==============================] - 0s 4ms/step - loss: 0.2207 - accuracy: 0.9186\n",
            "Epoch 3/50\n",
            "32/32 [==============================] - 0s 4ms/step - loss: 0.1587 - accuracy: 0.9399\n",
            "Epoch 4/50\n",
            "32/32 [==============================] - 0s 4ms/step - loss: 0.1294 - accuracy: 0.9545\n",
            "Epoch 5/50\n",
            "32/32 [==============================] - 0s 4ms/step - loss: 0.0636 - accuracy: 0.9748\n",
            "Epoch 6/50\n",
            "32/32 [==============================] - 0s 4ms/step - loss: 0.0690 - accuracy: 0.9719\n",
            "Epoch 7/50\n",
            "32/32 [==============================] - 0s 4ms/step - loss: 0.0544 - accuracy: 0.9825\n",
            "Epoch 8/50\n",
            "32/32 [==============================] - 0s 4ms/step - loss: 0.0810 - accuracy: 0.9681\n",
            "Epoch 9/50\n",
            "32/32 [==============================] - 0s 4ms/step - loss: 0.0442 - accuracy: 0.9875\n",
            "Epoch 10/50\n",
            "32/32 [==============================] - 0s 4ms/step - loss: 0.0380 - accuracy: 0.9840\n",
            "Epoch 11/50\n",
            "32/32 [==============================] - 0s 4ms/step - loss: 0.0269 - accuracy: 0.9924\n",
            "Epoch 12/50\n",
            "32/32 [==============================] - 0s 4ms/step - loss: 0.0457 - accuracy: 0.9840\n",
            "Epoch 13/50\n",
            "32/32 [==============================] - 0s 4ms/step - loss: 0.0229 - accuracy: 0.9917\n",
            "Epoch 14/50\n",
            "32/32 [==============================] - 0s 4ms/step - loss: 0.0181 - accuracy: 0.9940\n",
            "Epoch 15/50\n",
            "32/32 [==============================] - 0s 4ms/step - loss: 0.0184 - accuracy: 0.9920\n",
            "Epoch 16/50\n",
            "32/32 [==============================] - 0s 4ms/step - loss: 0.0331 - accuracy: 0.9888\n",
            "Epoch 17/50\n",
            "32/32 [==============================] - 0s 4ms/step - loss: 0.0350 - accuracy: 0.9865\n",
            "Epoch 18/50\n",
            "32/32 [==============================] - 0s 4ms/step - loss: 0.0245 - accuracy: 0.9893\n",
            "Epoch 19/50\n",
            "32/32 [==============================] - 0s 4ms/step - loss: 0.0196 - accuracy: 0.9941\n",
            "Epoch 20/50\n",
            "32/32 [==============================] - 0s 4ms/step - loss: 0.0121 - accuracy: 0.9937\n",
            "Epoch 21/50\n",
            "32/32 [==============================] - 0s 4ms/step - loss: 0.0078 - accuracy: 0.9975\n",
            "Epoch 22/50\n",
            "32/32 [==============================] - 0s 4ms/step - loss: 0.0146 - accuracy: 0.9954\n",
            "Epoch 23/50\n",
            "32/32 [==============================] - 0s 4ms/step - loss: 0.0134 - accuracy: 0.9969\n",
            "Epoch 24/50\n",
            "32/32 [==============================] - 0s 4ms/step - loss: 0.0089 - accuracy: 0.9969\n",
            "Epoch 25/50\n",
            "32/32 [==============================] - 0s 4ms/step - loss: 0.0083 - accuracy: 0.9962\n",
            "Epoch 26/50\n",
            "32/32 [==============================] - 0s 4ms/step - loss: 0.0186 - accuracy: 0.9938\n",
            "Epoch 27/50\n",
            "32/32 [==============================] - 0s 4ms/step - loss: 0.0181 - accuracy: 0.9938\n",
            "Epoch 28/50\n",
            "32/32 [==============================] - 0s 4ms/step - loss: 0.0095 - accuracy: 0.9981\n",
            "Epoch 29/50\n",
            "32/32 [==============================] - 0s 4ms/step - loss: 0.0093 - accuracy: 0.9977\n",
            "Epoch 30/50\n",
            "32/32 [==============================] - 0s 4ms/step - loss: 0.0245 - accuracy: 0.9939\n",
            "Epoch 31/50\n",
            "32/32 [==============================] - 0s 4ms/step - loss: 0.0187 - accuracy: 0.9941\n",
            "Epoch 32/50\n",
            "32/32 [==============================] - 0s 4ms/step - loss: 0.0073 - accuracy: 0.9983\n",
            "Epoch 33/50\n",
            "32/32 [==============================] - 0s 4ms/step - loss: 0.0035 - accuracy: 0.9985\n",
            "Epoch 34/50\n",
            "32/32 [==============================] - 0s 4ms/step - loss: 0.0024 - accuracy: 0.9991\n",
            "Epoch 35/50\n",
            "32/32 [==============================] - 0s 4ms/step - loss: 0.0179 - accuracy: 0.9937\n",
            "Epoch 36/50\n",
            "32/32 [==============================] - 0s 4ms/step - loss: 0.0066 - accuracy: 0.9983\n",
            "Epoch 37/50\n",
            "32/32 [==============================] - 0s 4ms/step - loss: 0.0265 - accuracy: 0.9906\n",
            "Epoch 38/50\n",
            "32/32 [==============================] - 0s 4ms/step - loss: 0.0057 - accuracy: 0.9984\n",
            "Epoch 39/50\n",
            "32/32 [==============================] - 0s 4ms/step - loss: 0.0041 - accuracy: 0.9990\n",
            "Epoch 40/50\n",
            "32/32 [==============================] - 0s 4ms/step - loss: 7.3985e-04 - accuracy: 1.0000\n",
            "Epoch 41/50\n",
            "32/32 [==============================] - 0s 4ms/step - loss: 0.0014 - accuracy: 0.9999\n",
            "Epoch 42/50\n",
            "32/32 [==============================] - 0s 4ms/step - loss: 0.0023 - accuracy: 0.9996\n",
            "Epoch 43/50\n",
            "32/32 [==============================] - 0s 4ms/step - loss: 0.0918 - accuracy: 0.9756\n",
            "Epoch 44/50\n",
            "32/32 [==============================] - 0s 4ms/step - loss: 0.0298 - accuracy: 0.9914\n",
            "Epoch 45/50\n",
            "32/32 [==============================] - 0s 4ms/step - loss: 0.0112 - accuracy: 0.9950\n",
            "Epoch 46/50\n",
            "32/32 [==============================] - 0s 4ms/step - loss: 0.0167 - accuracy: 0.9950\n",
            "Epoch 47/50\n",
            "32/32 [==============================] - 0s 4ms/step - loss: 0.0041 - accuracy: 0.9998\n",
            "Epoch 48/50\n",
            "32/32 [==============================] - 0s 4ms/step - loss: 0.0033 - accuracy: 0.9987\n",
            "Epoch 49/50\n",
            "32/32 [==============================] - 0s 4ms/step - loss: 6.5997e-04 - accuracy: 1.0000\n",
            "Epoch 50/50\n",
            "32/32 [==============================] - 0s 4ms/step - loss: 8.8280e-04 - accuracy: 0.9999\n",
            "Testing\n",
            "(1000, 1)\n",
            "0.8425357873210634\n"
          ],
          "name": "stdout"
        }
      ]
    },
    {
      "cell_type": "markdown",
      "metadata": {
        "id": "OCJh4qXsyfp6"
      },
      "source": [
        "It seems that the best performance of MLP is even lower than the best performance of SVM.\n",
        "\n",
        "This is strange, because I thought the MLP method will generally be better than SVM. Maybe it's still because of the hyperparameters."
      ]
    },
    {
      "cell_type": "markdown",
      "metadata": {
        "id": "fr4gr6cxaz4v"
      },
      "source": [
        "## CNN"
      ]
    },
    {
      "cell_type": "markdown",
      "metadata": {
        "id": "AS4OwQcqyz0w"
      },
      "source": [
        "This dataset is a set of pictures, so it's possible we use a simple CNN to extract the features just like MNIST."
      ]
    },
    {
      "cell_type": "markdown",
      "metadata": {
        "id": "L5RbSeZgiZO3"
      },
      "source": [
        "The code is modified from our image class project"
      ]
    },
    {
      "cell_type": "code",
      "metadata": {
        "id": "wOOkP0XZbuI6"
      },
      "source": [
        "import numpy as np\n",
        "from PIL import Image\n",
        "from torch.utils import data\n",
        "import sys\n",
        "import cv2\n",
        "import random\n",
        "import torchvision.transforms as transforms\n",
        "import torch\n",
        "import pandas as pd\n",
        "import torchvision.models as models\n",
        "import torch.nn as nn\n",
        "from torch.autograd import Variable\n",
        "import torch.nn.functional as F"
      ],
      "execution_count": null,
      "outputs": []
    },
    {
      "cell_type": "markdown",
      "metadata": {
        "id": "7VHpkJz_bj9l"
      },
      "source": [
        "### preprocessing"
      ]
    },
    {
      "cell_type": "code",
      "metadata": {
        "id": "KDKjAicXe_ao"
      },
      "source": [
        "X_train = X_train.reshape((-1, 28, 28))\n",
        "X_test = X_test.reshape((-1, 28, 28))\n",
        "\n",
        "X_train = np.array(X_train, dtype='uint8')\n",
        "X_test = np.array(X_test, dtype='uint8')"
      ],
      "execution_count": null,
      "outputs": []
    },
    {
      "cell_type": "code",
      "metadata": {
        "id": "wdI_icJ9o4Zc"
      },
      "source": [
        "# data augmentation\n",
        "def random_horizontal_flip(imgs):\n",
        "    if random.random() < 0.5:\n",
        "        imgs = np.flip(imgs, axis=1).copy()\n",
        "    return imgs\n",
        "\n",
        "def random_rotate(imgs):\n",
        "    max_angle = 20\n",
        "    angle = random.random() * 2 * max_angle - max_angle\n",
        "    \n",
        "    w, h = imgs.shape[:2]\n",
        "    rotation_matrix = cv2.getRotationMatrix2D((h / 2, w / 2), angle, 1)\n",
        "    img_rotation = cv2.warpAffine(imgs, rotation_matrix, (h, w))\n",
        "    imgs = img_rotation\n",
        "    return imgs"
      ],
      "execution_count": null,
      "outputs": []
    },
    {
      "cell_type": "code",
      "metadata": {
        "id": "yInXJhmmiYHQ"
      },
      "source": [
        "class trainset(data.Dataset):\n",
        "    def __init__(self, train_data, train_label):\n",
        "        self.train_data = train_data\n",
        "        self.train_label = train_label\n",
        "    def __getitem__(self, index):\n",
        "        img = self.train_data[index]\n",
        "        img = random_horizontal_flip(img)\n",
        "        img = random_rotate(img)\n",
        "        img = torch.from_numpy(img)\n",
        "        img = img.unsqueeze(0)\n",
        "        img = transforms.ToPILImage()(img)\n",
        "        img = transforms.ToTensor()(img)\n",
        "        img = transforms.Normalize((0.1307,), (0.3081,))(img)\n",
        "        target = self.train_label[index]\n",
        "        target = torch.tensor(target).long()\n",
        "        return img,target\n",
        "\n",
        "    def __len__(self):\n",
        "        return self.train_data.shape[0]\n",
        "\n",
        "class testset(data.Dataset):\n",
        "    def __init__(self, test_data):\n",
        "        self.test_data = test_data\n",
        "    def __getitem__(self, index):\n",
        "        img = self.test_data[index]\n",
        "        img = torch.from_numpy(img)\n",
        "        img = img.unsqueeze(0)\n",
        "        img = transforms.ToPILImage()(img)\n",
        "        img = transforms.ToTensor()(img)\n",
        "        img = transforms.Normalize((0.1307,), (0.3081,))(img)\n",
        "        return img\n",
        "\n",
        "    def __len__(self):\n",
        "        return self.test_data.shape[0]"
      ],
      "execution_count": null,
      "outputs": []
    },
    {
      "cell_type": "code",
      "metadata": {
        "id": "jFFQqinWklbZ"
      },
      "source": [
        "Trainset = trainset(X_train, y_train)\n",
        "Testset = testset(X_test)"
      ],
      "execution_count": null,
      "outputs": []
    },
    {
      "cell_type": "code",
      "metadata": {
        "id": "k-lgR08ggGW_"
      },
      "source": [
        "train_loader = torch.utils.data.DataLoader(\n",
        "        Trainset,\n",
        "        batch_size=64,\n",
        "        shuffle=True,\n",
        "        num_workers=2,\n",
        "        drop_last=False,\n",
        "        pin_memory=True)\n",
        "test_loader = torch.utils.data.DataLoader(\n",
        "        Testset,\n",
        "        batch_size=1,\n",
        "        shuffle=False,\n",
        "        num_workers=2,\n",
        "        drop_last=True)"
      ],
      "execution_count": null,
      "outputs": []
    },
    {
      "cell_type": "markdown",
      "metadata": {
        "id": "q3khTjy0yNx1"
      },
      "source": [
        "### Model"
      ]
    },
    {
      "cell_type": "code",
      "metadata": {
        "id": "PNgoBA6RyQpW"
      },
      "source": [
        "class Net(nn.Module):\n",
        "    def __init__(self):\n",
        "        super(Net, self).__init__()\n",
        "        self.conv1 = nn.Conv2d(1, 32, 3, 1, 1)\n",
        "        self.conv2 = nn.Conv2d(32, 64, 3, 1, 1)\n",
        "        self.conv3 = nn.Conv2d(64, 64, 3, 1, 1)\n",
        "        self.dropout1 = nn.Dropout(0.25)\n",
        "        self.dropout2 = nn.Dropout(0.5)\n",
        "        self.fc1 = nn.Linear(12544, 256)\n",
        "        self.fc2 = nn.Linear(256, 2)\n",
        "\n",
        "    def forward(self, x):\n",
        "        x = self.conv1(x)\n",
        "        x = F.relu(x)\n",
        "        x = self.conv2(x)\n",
        "        x = F.relu(x)\n",
        "        # print(x.shape)\n",
        "        x = self.conv3(x)\n",
        "        x = F.relu(x)\n",
        "        # print(x.shape)\n",
        "        x = F.max_pool2d(x, 2)\n",
        "        x = self.dropout1(x)\n",
        "        x = torch.flatten(x, 1)\n",
        "        x = self.fc1(x)\n",
        "        x = F.relu(x)\n",
        "        x = self.dropout2(x)\n",
        "        x = self.fc2(x)\n",
        "        # output = F.log_softmax(x, dim=1)\n",
        "        return x"
      ],
      "execution_count": null,
      "outputs": []
    },
    {
      "cell_type": "markdown",
      "metadata": {
        "id": "FJCU-QR_gmzP"
      },
      "source": [
        "### Train"
      ]
    },
    {
      "cell_type": "code",
      "metadata": {
        "id": "awM-V8w9fpqI"
      },
      "source": [
        "model = Net().cuda()\n",
        "\n",
        "criterion = nn.CrossEntropyLoss().cuda()"
      ],
      "execution_count": null,
      "outputs": []
    },
    {
      "cell_type": "code",
      "metadata": {
        "id": "_LQToAvS03Nt"
      },
      "source": [
        "optimizer = torch.optim.Adam(model.parameters(), lr=1e-3, weight_decay=5e-4)\n",
        "\n",
        "scheduler = torch.optim.lr_scheduler.StepLR(optimizer, step_size=10, gamma=0.1)\n",
        "\n",
        "max_epoch = 25\n",
        "\n",
        "train_loss = []"
      ],
      "execution_count": null,
      "outputs": []
    },
    {
      "cell_type": "code",
      "metadata": {
        "colab": {
          "base_uri": "https://localhost:8080/"
        },
        "id": "CJLCIKTqgxJe",
        "outputId": "a2ae8857-306e-4d51-c9e0-32e0372d315c"
      },
      "source": [
        "for epoch in range(max_epoch):\n",
        "  model.train()\n",
        "  epoch_loss = 0\n",
        "  for batch_idx, (imgs, gt) in enumerate(train_loader):\n",
        "\n",
        "        imgs = Variable(imgs.cuda())\n",
        "        gt = Variable(gt.cuda())\n",
        "\n",
        "        \n",
        "        outputs = model(imgs)\n",
        "\n",
        "        loss = criterion(outputs, gt)\n",
        "\n",
        "        optimizer.zero_grad()\n",
        "        loss.backward()\n",
        "        optimizer.step()\n",
        "        epoch_loss += loss.item()\n",
        "        if batch_idx % 10 == 0:\n",
        "          print(\"Epoch \"+str(epoch)+\": \"+str(batch_idx) + \" loss: \" + str(loss.item()))\n",
        "  train_loss.append(epoch_loss/(batch_idx+1))\n",
        "  scheduler.step()"
      ],
      "execution_count": null,
      "outputs": [
        {
          "output_type": "stream",
          "text": [
            "Epoch 0: 0 loss: 0.6994697451591492\n",
            "Epoch 0: 10 loss: 0.47836965322494507\n",
            "Epoch 0: 20 loss: 0.3933480978012085\n",
            "Epoch 0: 30 loss: 0.34025445580482483\n",
            "Epoch 1: 0 loss: 0.18642288446426392\n",
            "Epoch 1: 10 loss: 0.22465880215168\n",
            "Epoch 1: 20 loss: 0.18164950609207153\n",
            "Epoch 1: 30 loss: 0.31143060326576233\n",
            "Epoch 2: 0 loss: 0.2045906037092209\n",
            "Epoch 2: 10 loss: 0.21520139276981354\n",
            "Epoch 2: 20 loss: 0.2564404010772705\n",
            "Epoch 2: 30 loss: 0.28965261578559875\n",
            "Epoch 3: 0 loss: 0.19591739773750305\n",
            "Epoch 3: 10 loss: 0.18788085877895355\n",
            "Epoch 3: 20 loss: 0.18301177024841309\n",
            "Epoch 3: 30 loss: 0.09504547715187073\n",
            "Epoch 4: 0 loss: 0.29785266518592834\n",
            "Epoch 4: 10 loss: 0.1789146065711975\n",
            "Epoch 4: 20 loss: 0.07107450813055038\n",
            "Epoch 4: 30 loss: 0.1857064962387085\n",
            "Epoch 5: 0 loss: 0.14215466380119324\n",
            "Epoch 5: 10 loss: 0.1428649127483368\n",
            "Epoch 5: 20 loss: 0.14243733882904053\n",
            "Epoch 5: 30 loss: 0.16629721224308014\n",
            "Epoch 6: 0 loss: 0.11643721908330917\n",
            "Epoch 6: 10 loss: 0.10955256223678589\n",
            "Epoch 6: 20 loss: 0.12472014129161835\n",
            "Epoch 6: 30 loss: 0.12770293653011322\n",
            "Epoch 7: 0 loss: 0.10340526700019836\n",
            "Epoch 7: 10 loss: 0.14292342960834503\n",
            "Epoch 7: 20 loss: 0.26899752020835876\n",
            "Epoch 7: 30 loss: 0.19314195215702057\n",
            "Epoch 8: 0 loss: 0.18153011798858643\n",
            "Epoch 8: 10 loss: 0.09204702079296112\n",
            "Epoch 8: 20 loss: 0.09037286043167114\n",
            "Epoch 8: 30 loss: 0.1783325970172882\n",
            "Epoch 9: 0 loss: 0.13407471776008606\n",
            "Epoch 9: 10 loss: 0.031014420092105865\n",
            "Epoch 9: 20 loss: 0.13426367938518524\n",
            "Epoch 9: 30 loss: 0.16839520633220673\n",
            "Epoch 10: 0 loss: 0.09223379194736481\n",
            "Epoch 10: 10 loss: 0.06956835091114044\n",
            "Epoch 10: 20 loss: 0.1301300972700119\n",
            "Epoch 10: 30 loss: 0.03006616048514843\n",
            "Epoch 11: 0 loss: 0.14880569279193878\n",
            "Epoch 11: 10 loss: 0.2229115515947342\n",
            "Epoch 11: 20 loss: 0.04229181632399559\n",
            "Epoch 11: 30 loss: 0.12771059572696686\n",
            "Epoch 12: 0 loss: 0.14633019268512726\n",
            "Epoch 12: 10 loss: 0.12978795170783997\n",
            "Epoch 12: 20 loss: 0.18650449812412262\n",
            "Epoch 12: 30 loss: 0.047766998410224915\n",
            "Epoch 13: 0 loss: 0.08098787814378738\n",
            "Epoch 13: 10 loss: 0.13255031406879425\n",
            "Epoch 13: 20 loss: 0.3244597911834717\n",
            "Epoch 13: 30 loss: 0.10182157903909683\n",
            "Epoch 14: 0 loss: 0.08152974396944046\n",
            "Epoch 14: 10 loss: 0.16522075235843658\n",
            "Epoch 14: 20 loss: 0.1402774602174759\n",
            "Epoch 14: 30 loss: 0.0730925127863884\n",
            "Epoch 15: 0 loss: 0.08724917471408844\n",
            "Epoch 15: 10 loss: 0.19244611263275146\n",
            "Epoch 15: 20 loss: 0.04842078685760498\n",
            "Epoch 15: 30 loss: 0.1215955913066864\n",
            "Epoch 16: 0 loss: 0.12217367440462112\n",
            "Epoch 16: 10 loss: 0.0999101772904396\n",
            "Epoch 16: 20 loss: 0.11801353842020035\n",
            "Epoch 16: 30 loss: 0.05113477259874344\n",
            "Epoch 17: 0 loss: 0.04421895742416382\n",
            "Epoch 17: 10 loss: 0.15359827876091003\n",
            "Epoch 17: 20 loss: 0.07712136954069138\n",
            "Epoch 17: 30 loss: 0.11407169699668884\n",
            "Epoch 18: 0 loss: 0.051036812365055084\n",
            "Epoch 18: 10 loss: 0.042343419045209885\n",
            "Epoch 18: 20 loss: 0.05036020278930664\n",
            "Epoch 18: 30 loss: 0.051187269389629364\n",
            "Epoch 19: 0 loss: 0.0338028147816658\n",
            "Epoch 19: 10 loss: 0.07354331016540527\n",
            "Epoch 19: 20 loss: 0.10973884165287018\n",
            "Epoch 19: 30 loss: 0.04610731080174446\n",
            "Epoch 20: 0 loss: 0.11704863607883453\n",
            "Epoch 20: 10 loss: 0.095128633081913\n",
            "Epoch 20: 20 loss: 0.08245224505662918\n",
            "Epoch 20: 30 loss: 0.16091211140155792\n",
            "Epoch 21: 0 loss: 0.11447234451770782\n",
            "Epoch 21: 10 loss: 0.20922794938087463\n",
            "Epoch 21: 20 loss: 0.12292125821113586\n",
            "Epoch 21: 30 loss: 0.08622074872255325\n",
            "Epoch 22: 0 loss: 0.10491745173931122\n",
            "Epoch 22: 10 loss: 0.06957218050956726\n",
            "Epoch 22: 20 loss: 0.10003260523080826\n",
            "Epoch 22: 30 loss: 0.16614757478237152\n",
            "Epoch 23: 0 loss: 0.15336531400680542\n",
            "Epoch 23: 10 loss: 0.31560614705085754\n",
            "Epoch 23: 20 loss: 0.05887605994939804\n",
            "Epoch 23: 30 loss: 0.039873555302619934\n",
            "Epoch 24: 0 loss: 0.06158428639173508\n",
            "Epoch 24: 10 loss: 0.12447895854711533\n",
            "Epoch 24: 20 loss: 0.06196282058954239\n",
            "Epoch 24: 30 loss: 0.08570149540901184\n"
          ],
          "name": "stdout"
        }
      ]
    },
    {
      "cell_type": "code",
      "metadata": {
        "colab": {
          "base_uri": "https://localhost:8080/",
          "height": 265
        },
        "id": "1Vj8vq12o9gE",
        "outputId": "1b57caff-8306-4460-fc89-fe12f5ad68cf"
      },
      "source": [
        "plt.plot(train_loss, marker='*')\n",
        "plt.grid()"
      ],
      "execution_count": null,
      "outputs": [
        {
          "output_type": "display_data",
          "data": {
            "image/png": "[encoded data removed]",
            "text/plain": [
              "<Figure size 432x288 with 1 Axes>"
            ]
          },
          "metadata": {
            "tags": [],
            "needs_background": "light"
          }
        }
      ]
    },
    {
      "cell_type": "markdown",
      "metadata": {
        "id": "dGHZm0Iq3XWe"
      },
      "source": [
        "### Test"
      ]
    },
    {
      "cell_type": "code",
      "metadata": {
        "id": "lECKnOL23KKj"
      },
      "source": [
        "model = model.cuda()\n",
        "\n",
        "model.eval()\n",
        "\n",
        "y_pred = []\n",
        "\n",
        "for idx, img in enumerate(test_loader):\n",
        "  with torch.no_grad():\n",
        "    img = Variable(img.cuda())\n",
        "    \n",
        "    torch.cuda.synchronize()\n",
        "\n",
        "    outputs = model(img)\n",
        "\n",
        "    outputs = outputs.squeeze(0).cpu().detach().numpy().astype(np.float32)\n",
        "\n",
        "    result = np.argmax(outputs)\n",
        "\n",
        "    y_pred.append(result)\n",
        "    torch.cuda.synchronize()\n"
      ],
      "execution_count": null,
      "outputs": []
    },
    {
      "cell_type": "code",
      "metadata": {
        "colab": {
          "base_uri": "https://localhost:8080/"
        },
        "id": "3eL4MB5M4OY2",
        "outputId": "2abae8d8-ceb8-4b41-ccf4-72fa43f5c81b"
      },
      "source": [
        "f1_score(y_test, y_pred)"
      ],
      "execution_count": null,
      "outputs": [
        {
          "output_type": "execute_result",
          "data": {
            "text/plain": [
              "0.9243353783231084"
            ]
          },
          "metadata": {
            "tags": []
          },
          "execution_count": 176
        }
      ]
    },
    {
      "cell_type": "markdown",
      "metadata": {
        "id": "rca7TWuhWn0A"
      },
      "source": [
        "The result is much than the other methods just as I expected.\n",
        "\n",
        "This is because CNN can better extract the features from images. CNN can preserve the position information, which is very important for images."
      ]
    },
    {
      "cell_type": "markdown",
      "metadata": {
        "id": "hEcd6J7q5la_"
      },
      "source": [
        "# Conclusion"
      ]
    },
    {
      "cell_type": "markdown",
      "metadata": {
        "id": "O4yKwfn45oRn"
      },
      "source": [
        "The CNN method can obtain a f1 score 0.9243353783231084, which is much higher than the other methods.\n",
        "\n",
        "It seems the CNN based deep learning is the best model for computer vision (maybe now transformer is better, I'm not sure)"
      ]
    }
  ]
}