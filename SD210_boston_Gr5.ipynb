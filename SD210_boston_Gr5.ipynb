{
  "nbformat": 4,
  "nbformat_minor": 0,
  "metadata": {
    "colab": {
      "name": "SD210_boston_Gr5.ipynb",
      "provenance": [],
      "collapsed_sections": [
        "G9dil_UsgYiK",
        "Q5E98nhDARh1",
        "sxFrWQM7AyOs",
        "iE3BuhobA3ak",
        "9A-M_IodAkl1",
        "m2qe6BkNFLxf",
        "KgYlGswalA1c",
        "aIMz_0fuGnZn",
        "GtJEIj0UHEKX",
        "VrnjjfyJrscI",
        "31h1wrwtH7JX",
        "t0wfH46xIGFB",
        "FqSxv8Rop_S4",
        "nRr_kBV75ysi",
        "2uFkBJmpHPD9",
        "U1NJ0763sMKo",
        "Tg-ZKgtYJX-T",
        "P0ZMjA9vJX-U",
        "hjqt_fEAqj-X",
        "WDxfg9_P7G3N",
        "0Wix_NHmYZT-",
        "sKwLmVitB1Uy"
      ]
    },
    "kernelspec": {
      "name": "python3",
      "display_name": "Python 3"
    },
    "language_info": {
      "name": "python"
    }
  },
  "cells": [
    {
      "cell_type": "code",
      "metadata": {
        "id": "kdQtsBtM3KmS",
        "colab": {
          "base_uri": "https://localhost:8080/"
        },
        "outputId": "a0c34aeb-6a45-4bab-83c0-49370da5ccd8"
      },
      "source": [
        "if 'google.colab' in str(get_ipython()):\n",
        "  from google_drive_downloader import GoogleDriveDownloader as gdd\n",
        "  gdd.download_file_from_google_drive(file_id='1DQ1MxklWpX0FhGaApdPjnCGIK0samO0N',\n",
        "  dest_path='./boston.txt')\n",
        "else:\n",
        "  print('You are not using Colab. Please define working_dir with the absolute path to the folder where you downloaded the data')\n",
        "\n",
        "# Please modify working_dir only if you are using your Anaconda (and not Google Colab)\n",
        "# You should write the absolute path of your working directory with the data\n",
        "Working_directory=\"./\" "
      ],
      "execution_count": 3,
      "outputs": [
        {
          "output_type": "stream",
          "text": [
            "Downloading 1DQ1MxklWpX0FhGaApdPjnCGIK0samO0N into ./boston.txt... Done.\n"
          ],
          "name": "stdout"
        }
      ]
    },
    {
      "cell_type": "code",
      "metadata": {
        "id": "np8Y59xMzqn4"
      },
      "source": [
        "import numpy as np\n",
        "import pandas as pd\n",
        "from time import time\n",
        "\n",
        "from sklearn.datasets import load_boston\n",
        "import itertools\n",
        "from sklearn.model_selection import train_test_split\n",
        "from sklearn.metrics.pairwise import paired_distances\n",
        "from sklearn.model_selection import  cross_val_score, cross_validate, GridSearchCV, KFold, StratifiedKFold\n",
        "from sklearn.metrics import classification_report\n",
        "from sklearn.utils.multiclass import unique_labels\n",
        "from sklearn.metrics import confusion_matrix\n",
        "from sklearn.discriminant_analysis import LinearDiscriminantAnalysis\n",
        "from sklearn.discriminant_analysis import QuadraticDiscriminantAnalysis\n",
        "from sklearn.naive_bayes import GaussianNB\n",
        "from sklearn.linear_model import LogisticRegression\n",
        "from sklearn.neighbors import KNeighborsClassifier\n",
        "from sklearn import decomposition\n",
        "from sklearn.preprocessing import StandardScaler, MinMaxScaler\n",
        "import matplotlib.pyplot as plt\n",
        "# this is needed to plot figures within the notebook\n",
        "%matplotlib inline \n",
        "np.random.seed(seed=666)\n",
        "\n",
        "import warnings\n",
        "warnings.filterwarnings(\"ignore\", category=DeprecationWarning)\n",
        "warnings.simplefilter(action='ignore', category=FutureWarning)\n",
        "from sklearn.exceptions import ConvergenceWarning\n",
        "warnings.filterwarnings(action='ignore', category=ConvergenceWarning)\n",
        "from sklearn.decomposition import PCA\n",
        "from sklearn.ensemble import RandomForestRegressor\n",
        "from sklearn.neural_network import MLPRegressor\n",
        "from xgboost import XGBRegressor\n",
        "from sklearn.svm import SVR\n",
        "from sklearn.metrics import mean_squared_error as mse\n",
        "from mlxtend.feature_selection import SequentialFeatureSelector as SFS"
      ],
      "execution_count": 1,
      "outputs": []
    },
    {
      "cell_type": "markdown",
      "metadata": {
        "id": "G9dil_UsgYiK"
      },
      "source": [
        "# Read data"
      ]
    },
    {
      "cell_type": "markdown",
      "metadata": {
        "id": "xDDKO442ganq"
      },
      "source": [
        "As the data provided by sklearn is the same as the our boston data, so we just use the sklearn to read data."
      ]
    },
    {
      "cell_type": "code",
      "metadata": {
        "id": "858NfEzPz7Ex",
        "colab": {
          "base_uri": "https://localhost:8080/"
        },
        "outputId": "87cc804d-fd2c-4800-adb8-1dec1a0c0320"
      },
      "source": [
        "X, y = load_boston(return_X_y=True)\n",
        "feature_names = load_boston()['feature_names']\n",
        "print(X.shape)\n",
        "print(feature_names)"
      ],
      "execution_count": 2,
      "outputs": [
        {
          "output_type": "stream",
          "text": [
            "(506, 13)\n",
            "['CRIM' 'ZN' 'INDUS' 'CHAS' 'NOX' 'RM' 'AGE' 'DIS' 'RAD' 'TAX' 'PTRATIO'\n",
            " 'B' 'LSTAT']\n"
          ],
          "name": "stdout"
        }
      ]
    },
    {
      "cell_type": "code",
      "metadata": {
        "colab": {
          "base_uri": "https://localhost:8080/"
        },
        "id": "I_IpMjdHddBn",
        "outputId": "61de98c2-e073-4e9a-a1f6-73136af1aa9d"
      },
      "source": [
        "print(X[:3])"
      ],
      "execution_count": 5,
      "outputs": [
        {
          "output_type": "stream",
          "text": [
            "[[6.3200e-03 1.8000e+01 2.3100e+00 0.0000e+00 5.3800e-01 6.5750e+00\n",
            "  6.5200e+01 4.0900e+00 1.0000e+00 2.9600e+02 1.5300e+01 3.9690e+02\n",
            "  4.9800e+00]\n",
            " [2.7310e-02 0.0000e+00 7.0700e+00 0.0000e+00 4.6900e-01 6.4210e+00\n",
            "  7.8900e+01 4.9671e+00 2.0000e+00 2.4200e+02 1.7800e+01 3.9690e+02\n",
            "  9.1400e+00]\n",
            " [2.7290e-02 0.0000e+00 7.0700e+00 0.0000e+00 4.6900e-01 7.1850e+00\n",
            "  6.1100e+01 4.9671e+00 2.0000e+00 2.4200e+02 1.7800e+01 3.9283e+02\n",
            "  4.0300e+00]]\n"
          ],
          "name": "stdout"
        }
      ]
    },
    {
      "cell_type": "code",
      "metadata": {
        "colab": {
          "base_uri": "https://localhost:8080/"
        },
        "id": "IIuyW7iKda9p",
        "outputId": "d1926388-321d-4208-8e92-b518a831bb1d"
      },
      "source": [
        "print(y)"
      ],
      "execution_count": 4,
      "outputs": [
        {
          "output_type": "stream",
          "text": [
            "[24.  21.6 34.7 33.4 36.2 28.7 22.9 27.1 16.5 18.9 15.  18.9 21.7 20.4\n",
            " 18.2 19.9 23.1 17.5 20.2 18.2 13.6 19.6 15.2 14.5 15.6 13.9 16.6 14.8\n",
            " 18.4 21.  12.7 14.5 13.2 13.1 13.5 18.9 20.  21.  24.7 30.8 34.9 26.6\n",
            " 25.3 24.7 21.2 19.3 20.  16.6 14.4 19.4 19.7 20.5 25.  23.4 18.9 35.4\n",
            " 24.7 31.6 23.3 19.6 18.7 16.  22.2 25.  33.  23.5 19.4 22.  17.4 20.9\n",
            " 24.2 21.7 22.8 23.4 24.1 21.4 20.  20.8 21.2 20.3 28.  23.9 24.8 22.9\n",
            " 23.9 26.6 22.5 22.2 23.6 28.7 22.6 22.  22.9 25.  20.6 28.4 21.4 38.7\n",
            " 43.8 33.2 27.5 26.5 18.6 19.3 20.1 19.5 19.5 20.4 19.8 19.4 21.7 22.8\n",
            " 18.8 18.7 18.5 18.3 21.2 19.2 20.4 19.3 22.  20.3 20.5 17.3 18.8 21.4\n",
            " 15.7 16.2 18.  14.3 19.2 19.6 23.  18.4 15.6 18.1 17.4 17.1 13.3 17.8\n",
            " 14.  14.4 13.4 15.6 11.8 13.8 15.6 14.6 17.8 15.4 21.5 19.6 15.3 19.4\n",
            " 17.  15.6 13.1 41.3 24.3 23.3 27.  50.  50.  50.  22.7 25.  50.  23.8\n",
            " 23.8 22.3 17.4 19.1 23.1 23.6 22.6 29.4 23.2 24.6 29.9 37.2 39.8 36.2\n",
            " 37.9 32.5 26.4 29.6 50.  32.  29.8 34.9 37.  30.5 36.4 31.1 29.1 50.\n",
            " 33.3 30.3 34.6 34.9 32.9 24.1 42.3 48.5 50.  22.6 24.4 22.5 24.4 20.\n",
            " 21.7 19.3 22.4 28.1 23.7 25.  23.3 28.7 21.5 23.  26.7 21.7 27.5 30.1\n",
            " 44.8 50.  37.6 31.6 46.7 31.5 24.3 31.7 41.7 48.3 29.  24.  25.1 31.5\n",
            " 23.7 23.3 22.  20.1 22.2 23.7 17.6 18.5 24.3 20.5 24.5 26.2 24.4 24.8\n",
            " 29.6 42.8 21.9 20.9 44.  50.  36.  30.1 33.8 43.1 48.8 31.  36.5 22.8\n",
            " 30.7 50.  43.5 20.7 21.1 25.2 24.4 35.2 32.4 32.  33.2 33.1 29.1 35.1\n",
            " 45.4 35.4 46.  50.  32.2 22.  20.1 23.2 22.3 24.8 28.5 37.3 27.9 23.9\n",
            " 21.7 28.6 27.1 20.3 22.5 29.  24.8 22.  26.4 33.1 36.1 28.4 33.4 28.2\n",
            " 22.8 20.3 16.1 22.1 19.4 21.6 23.8 16.2 17.8 19.8 23.1 21.  23.8 23.1\n",
            " 20.4 18.5 25.  24.6 23.  22.2 19.3 22.6 19.8 17.1 19.4 22.2 20.7 21.1\n",
            " 19.5 18.5 20.6 19.  18.7 32.7 16.5 23.9 31.2 17.5 17.2 23.1 24.5 26.6\n",
            " 22.9 24.1 18.6 30.1 18.2 20.6 17.8 21.7 22.7 22.6 25.  19.9 20.8 16.8\n",
            " 21.9 27.5 21.9 23.1 50.  50.  50.  50.  50.  13.8 13.8 15.  13.9 13.3\n",
            " 13.1 10.2 10.4 10.9 11.3 12.3  8.8  7.2 10.5  7.4 10.2 11.5 15.1 23.2\n",
            "  9.7 13.8 12.7 13.1 12.5  8.5  5.   6.3  5.6  7.2 12.1  8.3  8.5  5.\n",
            " 11.9 27.9 17.2 27.5 15.  17.2 17.9 16.3  7.   7.2  7.5 10.4  8.8  8.4\n",
            " 16.7 14.2 20.8 13.4 11.7  8.3 10.2 10.9 11.   9.5 14.5 14.1 16.1 14.3\n",
            " 11.7 13.4  9.6  8.7  8.4 12.8 10.5 17.1 18.4 15.4 10.8 11.8 14.9 12.6\n",
            " 14.1 13.  13.4 15.2 16.1 17.8 14.9 14.1 12.7 13.5 14.9 20.  16.4 17.7\n",
            " 19.5 20.2 21.4 19.9 19.  19.1 19.1 20.1 19.9 19.6 23.2 29.8 13.8 13.3\n",
            " 16.7 12.  14.6 21.4 23.  23.7 25.  21.8 20.6 21.2 19.1 20.6 15.2  7.\n",
            "  8.1 13.6 20.1 21.8 24.5 23.1 19.7 18.3 21.2 17.5 16.8 22.4 20.6 23.9\n",
            " 22.  11.9]\n"
          ],
          "name": "stdout"
        }
      ]
    },
    {
      "cell_type": "markdown",
      "metadata": {
        "id": "UG_B6dWu4LJi"
      },
      "source": [
        "By doing some experiments, we find that the data with y=50 is outlier, so we just remove it. The experiments prove that by removing these outliers, the result improves a lot."
      ]
    },
    {
      "cell_type": "code",
      "metadata": {
        "colab": {
          "base_uri": "https://localhost:8080/"
        },
        "id": "lrXLPnITs0QB",
        "outputId": "f9e777c7-3862-4d79-c508-6db455dfa0bd"
      },
      "source": [
        "# remove abnormal data\n",
        "X = X[y!=50]\n",
        "y = y[y!=50]\n",
        "print(X.shape)"
      ],
      "execution_count": null,
      "outputs": [
        {
          "output_type": "stream",
          "text": [
            "(490, 13)\n"
          ],
          "name": "stdout"
        }
      ]
    },
    {
      "cell_type": "code",
      "metadata": {
        "id": "I_YCjKnM0Ali",
        "colab": {
          "base_uri": "https://localhost:8080/"
        },
        "outputId": "3b35a5ef-1581-47cd-9e76-a60c95416aff"
      },
      "source": [
        "# split data into train and test dataset\n",
        "\n",
        "X_train, X_test, y_train, y_test = train_test_split(X, y, test_size=0.25, random_state=42, shuffle=True)\n",
        "\n",
        "print(X_train.shape, X_test.shape)"
      ],
      "execution_count": null,
      "outputs": [
        {
          "output_type": "stream",
          "text": [
            "(367, 13) (123, 13)\n"
          ],
          "name": "stdout"
        }
      ]
    },
    {
      "cell_type": "markdown",
      "metadata": {
        "id": "Q5E98nhDARh1"
      },
      "source": [
        "# Preprocessing"
      ]
    },
    {
      "cell_type": "markdown",
      "metadata": {
        "id": "sxFrWQM7AyOs"
      },
      "source": [
        "## Scale data"
      ]
    },
    {
      "cell_type": "markdown",
      "metadata": {
        "id": "fXQ-D8CdXrbi"
      },
      "source": [
        "for some methods, it's necessary to scale the data"
      ]
    },
    {
      "cell_type": "code",
      "metadata": {
        "id": "K2WsoR2SA002"
      },
      "source": [
        "scaler = StandardScaler()\n",
        "scaler.fit(X_train)\n",
        "X_train_scale = scaler.transform(X_train)\n",
        "X_test_scale = scaler.transform(X_test)"
      ],
      "execution_count": null,
      "outputs": []
    },
    {
      "cell_type": "markdown",
      "metadata": {
        "id": "iE3BuhobA3ak"
      },
      "source": [
        "## Feature selections"
      ]
    },
    {
      "cell_type": "markdown",
      "metadata": {
        "id": "bOxSGsW1Ag3F"
      },
      "source": [
        "If we use some traditional ML methods, it's important to reduce the dimension by removing most nuisance variables\n",
        "\n",
        "This time, the original number of feature is rather small, so we can also try some methods like sequential feature selection which is slow but can better selet the features."
      ]
    },
    {
      "cell_type": "markdown",
      "metadata": {
        "id": "9A-M_IodAkl1"
      },
      "source": [
        "### PCA"
      ]
    },
    {
      "cell_type": "markdown",
      "metadata": {
        "id": "9vgTIikDEhZX"
      },
      "source": [
        "The simplest way is to apply PCA to select features"
      ]
    },
    {
      "cell_type": "code",
      "metadata": {
        "id": "xqXkkiz6_JRl",
        "colab": {
          "base_uri": "https://localhost:8080/"
        },
        "outputId": "23b166ea-ecca-42ea-d80c-f9a7bec48a16"
      },
      "source": [
        "pca = PCA(n_components=10,svd_solver='randomized', whiten=True)\n",
        "pca.fit(X_train_scale)\n",
        "\n",
        "X_train_pca = pca.transform(X_train_scale)\n",
        "X_test_pca = pca.transform(X_test_scale)\n",
        "print(np.sum(pca.explained_variance_ratio_))"
      ],
      "execution_count": null,
      "outputs": [
        {
          "output_type": "stream",
          "text": [
            "0.9680020758832637\n"
          ],
          "name": "stdout"
        }
      ]
    },
    {
      "cell_type": "markdown",
      "metadata": {
        "id": "m2qe6BkNFLxf"
      },
      "source": [
        "### Random Forest"
      ]
    },
    {
      "cell_type": "markdown",
      "metadata": {
        "id": "g1NEN5MVF3av"
      },
      "source": [
        "We can also use RF to select important features"
      ]
    },
    {
      "cell_type": "code",
      "metadata": {
        "id": "BvxJB8UI_Lve",
        "colab": {
          "base_uri": "https://localhost:8080/"
        },
        "outputId": "dab94390-aa0c-4ac0-e5e5-1808ebdd03d7"
      },
      "source": [
        "n_component = 8\n",
        "\n",
        "model = RandomForestRegressor(n_jobs=8, random_state=0)\n",
        "model.fit(X_train_scale, y_train.ravel())\n",
        "\n",
        "feature_importance = model.feature_importances_\n",
        "\n",
        "index = np.argsort(feature_importance)[-1:-n_component-1:-1]\n",
        "\n",
        "X_train_RF = X_train_scale[:, index]\n",
        "X_test_RF = X_test_scale[:, index]\n",
        "\n",
        "print(np.sum(feature_importance[index]))\n",
        "print(feature_names[index])"
      ],
      "execution_count": null,
      "outputs": [
        {
          "output_type": "stream",
          "text": [
            "0.9693313959996135\n",
            "['RM' 'LSTAT' 'CRIM' 'DIS' 'NOX' 'PTRATIO' 'TAX' 'AGE']\n"
          ],
          "name": "stdout"
        }
      ]
    },
    {
      "cell_type": "markdown",
      "metadata": {
        "id": "KgYlGswalA1c"
      },
      "source": [
        "### Sequential Feature Selection"
      ]
    },
    {
      "cell_type": "markdown",
      "metadata": {
        "id": "QyjMwxJE45S5"
      },
      "source": [
        "This time, the number of feature is much smller than the 2 datasets before, so we can use some method like SFS to better select the features."
      ]
    },
    {
      "cell_type": "code",
      "metadata": {
        "colab": {
          "base_uri": "https://localhost:8080/"
        },
        "id": "nBR-ZgIelLTN",
        "outputId": "36412c54-f9f4-463a-a159-c9097d3c4c39"
      },
      "source": [
        "# Build RF regressor to use in feature selection\n",
        "clf = RandomForestRegressor(n_jobs=8)\n",
        "\n",
        "# Sequential Forward Selection\n",
        "sfs = SFS(clf,\n",
        "      k_features=8, \n",
        "      forward=True,\n",
        "      floating=False,\n",
        "      verbose=2,\n",
        "      scoring='neg_mean_squared_error',\n",
        "      cv=5, n_jobs = 8)\n",
        "\n",
        "sfs = sfs.fit(X_train_scale, y_train)\n",
        "\n",
        "print('\\nSequential Forward Selection (k=8):')\n",
        "print(sfs.k_feature_idx_)\n",
        "print('CV Score:')\n",
        "print(sfs.k_score_)\n"
      ],
      "execution_count": null,
      "outputs": [
        {
          "output_type": "stream",
          "text": [
            "[Parallel(n_jobs=8)]: Using backend LokyBackend with 8 concurrent workers.\n",
            "[Parallel(n_jobs=8)]: Done   5 out of  13 | elapsed:    4.1s remaining:    6.6s\n",
            "[Parallel(n_jobs=8)]: Done  13 out of  13 | elapsed:    8.8s finished\n",
            "\n",
            "[2021-04-05 20:32:20] Features: 1/8 -- score: -29.18722485030973[Parallel(n_jobs=8)]: Using backend LokyBackend with 8 concurrent workers.\n",
            "[Parallel(n_jobs=8)]: Done   4 out of  12 | elapsed:    4.0s remaining:    8.1s\n",
            "[Parallel(n_jobs=8)]: Done  12 out of  12 | elapsed:    9.0s finished\n",
            "\n",
            "[2021-04-05 20:32:29] Features: 2/8 -- score: -16.250463812143668[Parallel(n_jobs=8)]: Using backend LokyBackend with 8 concurrent workers.\n",
            "[Parallel(n_jobs=8)]: Done   2 out of  11 | elapsed:    3.8s remaining:   17.2s\n",
            "[Parallel(n_jobs=8)]: Done   8 out of  11 | elapsed:    8.6s remaining:    3.2s\n",
            "[Parallel(n_jobs=8)]: Done  11 out of  11 | elapsed:    9.0s finished\n",
            "\n",
            "[2021-04-05 20:32:38] Features: 3/8 -- score: -11.814402213513523[Parallel(n_jobs=8)]: Using backend LokyBackend with 8 concurrent workers.\n",
            "[Parallel(n_jobs=8)]: Done   7 out of  10 | elapsed:    8.0s remaining:    3.4s\n",
            "[Parallel(n_jobs=8)]: Done  10 out of  10 | elapsed:    8.5s finished\n",
            "\n",
            "[2021-04-05 20:32:47] Features: 4/8 -- score: -10.80723674102185[Parallel(n_jobs=8)]: Using backend LokyBackend with 8 concurrent workers.\n",
            "[Parallel(n_jobs=8)]: Done   4 out of   9 | elapsed:    4.7s remaining:    5.8s\n",
            "[Parallel(n_jobs=8)]: Done   9 out of   9 | elapsed:    8.2s remaining:    0.0s\n",
            "[Parallel(n_jobs=8)]: Done   9 out of   9 | elapsed:    8.2s finished\n",
            "\n",
            "[2021-04-05 20:32:55] Features: 5/8 -- score: -10.229229860940388[Parallel(n_jobs=8)]: Using backend LokyBackend with 8 concurrent workers.\n",
            "[Parallel(n_jobs=8)]: Done   3 out of   8 | elapsed:    4.7s remaining:    7.9s\n",
            "[Parallel(n_jobs=8)]: Done   8 out of   8 | elapsed:    7.7s remaining:    0.0s\n",
            "[Parallel(n_jobs=8)]: Done   8 out of   8 | elapsed:    7.7s finished\n",
            "\n",
            "[2021-04-05 20:33:03] Features: 6/8 -- score: -9.727581053646805[Parallel(n_jobs=7)]: Using backend LokyBackend with 7 concurrent workers.\n",
            "[Parallel(n_jobs=7)]: Done   2 out of   7 | elapsed:    5.8s remaining:   14.5s\n",
            "[Parallel(n_jobs=7)]: Done   7 out of   7 | elapsed:    7.5s finished\n",
            "\n",
            "[2021-04-05 20:33:10] Features: 7/8 -- score: -9.55695230725657[Parallel(n_jobs=6)]: Using backend LokyBackend with 6 concurrent workers.\n",
            "[Parallel(n_jobs=6)]: Done   3 out of   6 | elapsed:    5.1s remaining:    5.1s\n"
          ],
          "name": "stderr"
        },
        {
          "output_type": "stream",
          "text": [
            "\n",
            "Sequential Forward Selection (k=8):\n",
            "(0, 4, 5, 6, 8, 9, 10, 12)\n",
            "CV Score:\n",
            "-9.752085069270644\n"
          ],
          "name": "stdout"
        },
        {
          "output_type": "stream",
          "text": [
            "[Parallel(n_jobs=6)]: Done   6 out of   6 | elapsed:    6.9s finished\n",
            "\n",
            "[2021-04-05 20:33:17] Features: 8/8 -- score: -9.752085069270644"
          ],
          "name": "stderr"
        }
      ]
    },
    {
      "cell_type": "code",
      "metadata": {
        "colab": {
          "base_uri": "https://localhost:8080/"
        },
        "id": "qplC5IBOnTef",
        "outputId": "9a28e73b-0929-49d8-f2bc-cf87a0015391"
      },
      "source": [
        "print(feature_names[list(sfs.k_feature_idx_)])\n",
        "\n",
        "X_train_sfs = X_train_scale[:,sfs.k_feature_idx_]\n",
        "X_test_sfs = X_test_scale[:,sfs.k_feature_idx_]"
      ],
      "execution_count": null,
      "outputs": [
        {
          "output_type": "stream",
          "text": [
            "['CRIM' 'NOX' 'RM' 'AGE' 'RAD' 'TAX' 'PTRATIO' 'LSTAT']\n"
          ],
          "name": "stdout"
        }
      ]
    },
    {
      "cell_type": "markdown",
      "metadata": {
        "id": "aIMz_0fuGnZn"
      },
      "source": [
        "# Regressor"
      ]
    },
    {
      "cell_type": "markdown",
      "metadata": {
        "id": "GtJEIj0UHEKX"
      },
      "source": [
        "## SVM"
      ]
    },
    {
      "cell_type": "markdown",
      "metadata": {
        "id": "Vyz6ATGTYD08"
      },
      "source": [
        "We try SVM first, because it's a rather simple but useful regressor"
      ]
    },
    {
      "cell_type": "code",
      "metadata": {
        "id": "KqUn1eFqGiGm"
      },
      "source": [
        "p_grid_lsvm = {'C': [1e-3,1e-2,0.05,1e-1,0.5,1,2,5,1e1,1e2,15,20,40,60,80,120,140]}\n",
        "Lsvm = SVR(kernel='rbf')\n",
        "grid_lsvm = GridSearchCV(estimator=Lsvm, param_grid=p_grid_lsvm, scoring='neg_mean_squared_error', cv=5, n_jobs=8)"
      ],
      "execution_count": null,
      "outputs": []
    },
    {
      "cell_type": "markdown",
      "metadata": {
        "id": "IVtbQAvaYN9x"
      },
      "source": [
        "We try SVM on different preprocessed data to compare the performances."
      ]
    },
    {
      "cell_type": "markdown",
      "metadata": {
        "id": "VrnjjfyJrscI"
      },
      "source": [
        "### Scaled data"
      ]
    },
    {
      "cell_type": "code",
      "metadata": {
        "colab": {
          "base_uri": "https://localhost:8080/"
        },
        "id": "zc-LCkvNrwUH",
        "outputId": "b3dd6ec7-dee0-4027-8ae8-db128e48811d"
      },
      "source": [
        "grid_lsvm.fit(X_train_scale, y_train.ravel())\n",
        "test_score = grid_lsvm.score(X_test_scale, y_test.ravel())\n",
        "\n",
        "print(\"Best training Score: {}\".format(grid_lsvm.best_score_))\n",
        "print(\"Best training params: {}\".format(grid_lsvm.best_params_))\n",
        "print(\"Test score: {}\".format(test_score))"
      ],
      "execution_count": null,
      "outputs": [
        {
          "output_type": "stream",
          "text": [
            "Best training Score: -8.644099683160372\n",
            "Best training params: {'C': 15}\n",
            "Test score: -7.790827595707019\n"
          ],
          "name": "stdout"
        }
      ]
    },
    {
      "cell_type": "markdown",
      "metadata": {
        "id": "31h1wrwtH7JX"
      },
      "source": [
        "### PCA preprocessed data"
      ]
    },
    {
      "cell_type": "code",
      "metadata": {
        "id": "rMObSEI-H6CH",
        "colab": {
          "base_uri": "https://localhost:8080/"
        },
        "outputId": "9390fb1a-c8b2-4f07-9a46-d039f5581327"
      },
      "source": [
        "grid_lsvm.fit(X_train_pca, y_train.ravel())\n",
        "test_score = grid_lsvm.score(X_test_pca, y_test.ravel())\n",
        "\n",
        "print(\"Best training Score: {}\".format(grid_lsvm.best_score_))\n",
        "print(\"Best training params: {}\".format(grid_lsvm.best_params_))\n",
        "print(\"Test score: {}\".format(test_score))"
      ],
      "execution_count": null,
      "outputs": [
        {
          "output_type": "stream",
          "text": [
            "Best training Score: -10.905250625912615\n",
            "Best training params: {'C': 40}\n",
            "Test score: -8.567819003996398\n"
          ],
          "name": "stdout"
        }
      ]
    },
    {
      "cell_type": "markdown",
      "metadata": {
        "id": "t0wfH46xIGFB"
      },
      "source": [
        "### RF preprocessed data"
      ]
    },
    {
      "cell_type": "code",
      "metadata": {
        "colab": {
          "base_uri": "https://localhost:8080/"
        },
        "id": "Prs6W0qeI1AZ",
        "outputId": "34f9cd37-c49c-4114-dcbb-73c598a2a680"
      },
      "source": [
        "grid_lsvm.fit(X_train_RF, y_train.ravel())\n",
        "test_score = grid_lsvm.score(X_test_RF, y_test.ravel())\n",
        "\n",
        "print(\"Best training Score: {}\".format(grid_lsvm.best_score_))\n",
        "print(\"Best training params: {}\".format(grid_lsvm.best_params_))\n",
        "print(\"Test score: {}\".format(test_score))"
      ],
      "execution_count": null,
      "outputs": [
        {
          "output_type": "stream",
          "text": [
            "Best training Score: -8.073225870284762\n",
            "Best training params: {'C': 15}\n",
            "Test score: -7.6702654820761955\n"
          ],
          "name": "stdout"
        }
      ]
    },
    {
      "cell_type": "markdown",
      "metadata": {
        "id": "FqSxv8Rop_S4"
      },
      "source": [
        "### SFS preprocessed data"
      ]
    },
    {
      "cell_type": "code",
      "metadata": {
        "colab": {
          "base_uri": "https://localhost:8080/"
        },
        "id": "b6n42VLPqDgk",
        "outputId": "a3b99f76-1cfe-4389-db73-a9424bfea5d3"
      },
      "source": [
        "grid_lsvm.fit(X_train_sfs, y_train.ravel())\n",
        "test_score = grid_lsvm.score(X_test_sfs, y_test.ravel())\n",
        "\n",
        "print(\"Best training Score: {}\".format(grid_lsvm.best_score_))\n",
        "print(\"Best training params: {}\".format(grid_lsvm.best_params_))\n",
        "print(\"Test score: {}\".format(test_score))"
      ],
      "execution_count": null,
      "outputs": [
        {
          "output_type": "stream",
          "text": [
            "Best training Score: -8.244137699294537\n",
            "Best training params: {'C': 15}\n",
            "Test score: -7.796078405261998\n"
          ],
          "name": "stdout"
        }
      ]
    },
    {
      "cell_type": "markdown",
      "metadata": {
        "id": "nRr_kBV75ysi"
      },
      "source": [
        "### Comments"
      ]
    },
    {
      "cell_type": "markdown",
      "metadata": {
        "id": "REKpAoiy51xX"
      },
      "source": [
        "From these results, we can find that RF preprocessed data can have the best performance. Even though it doesn't increase many scores, it decreases the number of features and decreases the calculation time."
      ]
    },
    {
      "cell_type": "markdown",
      "metadata": {
        "id": "2uFkBJmpHPD9"
      },
      "source": [
        "## Boost"
      ]
    },
    {
      "cell_type": "code",
      "metadata": {
        "id": "y9sPVXZHHDEN"
      },
      "source": [
        "XGB = XGBRegressor()\n",
        "p_grid_xgb = dict(\n",
        "    max_depth = [4, 5, 6, 7],\n",
        "    learning_rate = np.linspace(0.03, 0.3, 10),\n",
        "    n_estimators = [100, 200]\n",
        ")\n",
        "\n",
        "grid_xgb = GridSearchCV(estimator=XGB, param_grid=p_grid_xgb, scoring='neg_mean_squared_error', cv=5, n_jobs = 8)"
      ],
      "execution_count": null,
      "outputs": []
    },
    {
      "cell_type": "markdown",
      "metadata": {
        "id": "U1NJ0763sMKo"
      },
      "source": [
        "### Scaled data"
      ]
    },
    {
      "cell_type": "code",
      "metadata": {
        "colab": {
          "base_uri": "https://localhost:8080/"
        },
        "id": "hDjddoo0sONx",
        "outputId": "1795b415-2a9f-4004-dfe0-25def3750f07"
      },
      "source": [
        "grid_xgb.fit(X_train_scale, y_train.ravel())\n",
        "test_score = grid_xgb.score(X_test_scale, y_test.ravel())\n",
        "\n",
        "print(\"Best training Score: {}\".format(grid_xgb.best_score_))\n",
        "print(\"Best training params: {}\".format(grid_xgb.best_params_))\n",
        "print(\"Test score: {}\".format(test_score))"
      ],
      "execution_count": null,
      "outputs": [
        {
          "output_type": "stream",
          "text": [
            "[20:29:04] WARNING: /workspace/src/objective/regression_obj.cu:152: reg:linear is now deprecated in favor of reg:squarederror.\n",
            "Best training Score: -8.306967583987895\n",
            "Best training params: {'learning_rate': 0.06, 'max_depth': 4, 'n_estimators': 200}\n",
            "Test score: -5.920588723795166\n"
          ],
          "name": "stdout"
        }
      ]
    },
    {
      "cell_type": "markdown",
      "metadata": {
        "id": "Tg-ZKgtYJX-T"
      },
      "source": [
        "### PCA preprocessed data"
      ]
    },
    {
      "cell_type": "code",
      "metadata": {
        "colab": {
          "base_uri": "https://localhost:8080/"
        },
        "id": "vbj6CiAgJX-T",
        "outputId": "ceba5968-7d1c-4fce-ea8b-6e84ec5528cc"
      },
      "source": [
        "grid_xgb.fit(X_train_pca, y_train.ravel())\n",
        "test_score = grid_xgb.score(X_test_pca, y_test.ravel())\n",
        "\n",
        "print(\"Best training Score: {}\".format(grid_xgb.best_score_))\n",
        "print(\"Best training params: {}\".format(grid_xgb.best_params_))\n",
        "print(\"Test score: {}\".format(test_score))"
      ],
      "execution_count": null,
      "outputs": [
        {
          "output_type": "stream",
          "text": [
            "[20:29:37] WARNING: /workspace/src/objective/regression_obj.cu:152: reg:linear is now deprecated in favor of reg:squarederror.\n",
            "Best training Score: -10.62773985893026\n",
            "Best training params: {'learning_rate': 0.15000000000000002, 'max_depth': 4, 'n_estimators': 200}\n",
            "Test score: -10.144158993409846\n"
          ],
          "name": "stdout"
        }
      ]
    },
    {
      "cell_type": "markdown",
      "metadata": {
        "id": "P0ZMjA9vJX-U"
      },
      "source": [
        "### RF preprocessed data"
      ]
    },
    {
      "cell_type": "code",
      "metadata": {
        "colab": {
          "base_uri": "https://localhost:8080/"
        },
        "id": "WJeL52MoJX-U",
        "outputId": "3c50c749-bfa4-41f8-a808-22093d69b7c0"
      },
      "source": [
        "grid_xgb.fit(X_train_RF, y_train.ravel())\n",
        "test_score = grid_xgb.score(X_test_RF, y_test.ravel())\n",
        "\n",
        "print(\"Best training Score: {}\".format(grid_xgb.best_score_))\n",
        "print(\"Best training params: {}\".format(grid_xgb.best_params_))\n",
        "print(\"Test score: {}\".format(test_score))"
      ],
      "execution_count": null,
      "outputs": [
        {
          "output_type": "stream",
          "text": [
            "[20:30:05] WARNING: /workspace/src/objective/regression_obj.cu:152: reg:linear is now deprecated in favor of reg:squarederror.\n",
            "Best training Score: -8.031270566213113\n",
            "Best training params: {'learning_rate': 0.09, 'max_depth': 4, 'n_estimators': 200}\n",
            "Test score: -6.37492299742967\n"
          ],
          "name": "stdout"
        }
      ]
    },
    {
      "cell_type": "markdown",
      "metadata": {
        "id": "hjqt_fEAqj-X"
      },
      "source": [
        "### SFS preprocessed data"
      ]
    },
    {
      "cell_type": "code",
      "metadata": {
        "colab": {
          "base_uri": "https://localhost:8080/"
        },
        "id": "qvIwt01-qV6u",
        "outputId": "4144f372-763f-4d76-90c3-5dead829ed98"
      },
      "source": [
        "grid_xgb.fit(X_train_sfs, y_train.ravel())\n",
        "test_score = grid_xgb.score(X_test_sfs, y_test.ravel())\n",
        "\n",
        "print(\"Best training Score: {}\".format(grid_xgb.best_score_))\n",
        "print(\"Best training params: {}\".format(grid_xgb.best_params_))\n",
        "print(\"Test score: {}\".format(test_score))"
      ],
      "execution_count": null,
      "outputs": [
        {
          "output_type": "stream",
          "text": [
            "[20:34:03] WARNING: /workspace/src/objective/regression_obj.cu:152: reg:linear is now deprecated in favor of reg:squarederror.\n",
            "Best training Score: -7.741432482804453\n",
            "Best training params: {'learning_rate': 0.09, 'max_depth': 4, 'n_estimators': 200}\n",
            "Test score: -6.671467792686729\n"
          ],
          "name": "stdout"
        }
      ]
    },
    {
      "cell_type": "markdown",
      "metadata": {
        "id": "WDxfg9_P7G3N"
      },
      "source": [
        "### Comments"
      ]
    },
    {
      "cell_type": "markdown",
      "metadata": {
        "id": "3IC9wKFw7KLL"
      },
      "source": [
        "The result on the scaled data has the best MSE score. Maybe for this dataset and for XGBoosting regressor, it's not necessary to select the features\n",
        "\n",
        "We also find that the performance of boosting is much better than SVM, because it's an ensemble method, so in general, if we choose a suitable hyperparameter, the result can be very good."
      ]
    },
    {
      "cell_type": "markdown",
      "metadata": {
        "id": "0Wix_NHmYZT-"
      },
      "source": [
        "## MLP from tensorflow"
      ]
    },
    {
      "cell_type": "markdown",
      "metadata": {
        "id": "GuJoK7-Y6XPw"
      },
      "source": [
        "As the experiments on 2 other datasets shows, the MLP implemented by tensorflow will have a better performance than that implemented by sklearn, so this time, I just directly implement the MLP by tensorflow."
      ]
    },
    {
      "cell_type": "markdown",
      "metadata": {
        "id": "3emiAVruYdU0"
      },
      "source": [
        "Code is modified from the TP of our image course"
      ]
    },
    {
      "cell_type": "code",
      "metadata": {
        "colab": {
          "base_uri": "https://localhost:8080/"
        },
        "id": "oak6mMlhYcbG",
        "outputId": "55947beb-3df8-4883-bdac-05d904b16ef1"
      },
      "source": [
        "import tensorflow as tf\n",
        "\n",
        "# import tensorflow models\n",
        "from tensorflow.keras.models import Sequential, Model\n",
        "from tensorflow.keras.layers import Dense, Dropout, Activation, Flatten, Input, BatchNormalization\n",
        "from tensorflow.keras.layers import Conv2D, MaxPooling2D\n",
        "from tensorflow.keras import optimizers\n",
        "print(tf.keras.__version__)"
      ],
      "execution_count": null,
      "outputs": [
        {
          "output_type": "stream",
          "text": [
            "2.4.0\n"
          ],
          "name": "stdout"
        }
      ]
    },
    {
      "cell_type": "code",
      "metadata": {
        "colab": {
          "base_uri": "https://localhost:8080/",
          "height": 1000
        },
        "id": "VU0mBwQTYnQV",
        "outputId": "4eadd97e-98c7-4b0b-8ca7-99bb38d92a4c"
      },
      "source": [
        "# Network Parameters\n",
        "n_hidden_1 = 128 # 1st layer number of neurons\n",
        "n_hidden_2 = 128 # 2nd layer number of neurons\n",
        "n_hidden_3 = 64 # 2nd layer number of neurons\n",
        "\n",
        "n_input = X_train.shape[1]\n",
        "\n",
        "# TO CODE BY STUDENTS\n",
        "\n",
        "model_mlp_multi_layer = Sequential()   # FILL IN STUDENTS\n",
        "model_mlp_multi_layer.add(Dense(n_hidden_1, input_shape=(n_input,)))\n",
        "model_mlp_multi_layer.add(BatchNormalization())\n",
        "model_mlp_multi_layer.add(Activation('relu'))\n",
        "model_mlp_multi_layer.add(Dense(n_hidden_2))\n",
        "model_mlp_multi_layer.add(BatchNormalization())\n",
        "model_mlp_multi_layer.add(Activation('relu'))\n",
        "model_mlp_multi_layer.add(Dense(n_hidden_3))\n",
        "model_mlp_multi_layer.add(BatchNormalization())\n",
        "model_mlp_multi_layer.add(Activation('relu'))\n",
        "model_mlp_multi_layer.add(Dense(1))\n",
        "\n",
        "# create the loss and optimiser\n",
        "learning_rate = 0.01\n",
        "model_mlp_multi_layer.compile(loss=\"mse\", optimizer=optimizers.Adam(lr=learning_rate))\n",
        "\n",
        "# Run optimisation algorithm\n",
        "n_epochs = 100\n",
        "batch_size = 64\n",
        "\n",
        "print('Training')\n",
        "history = model_mlp_multi_layer.fit(X_train_scale, y_train, epochs=n_epochs,batch_size=batch_size, validation_split=0.2) # TO FILL IN\n",
        "\n",
        "plt.plot(history.history['loss'])\n",
        "plt.plot(history.history['val_loss'])\n",
        "plt.title('model loss')\n",
        "plt.ylabel('loss')\n",
        "plt.xlabel('epoch')\n",
        "plt.legend(['train', 'test'], loc='upper left')\n",
        "plt.show()\n",
        "\n",
        "print('Testing')\n",
        "model_mlp_multi_layer.evaluate(X_test_scale,  y_test, verbose=2) # TO FILL IN"
      ],
      "execution_count": null,
      "outputs": [
        {
          "output_type": "stream",
          "text": [
            "Training\n",
            "Epoch 1/100\n",
            "5/5 [==============================] - 1s 50ms/step - loss: 538.7790 - val_loss: 434.4614\n",
            "Epoch 2/100\n",
            "5/5 [==============================] - 0s 13ms/step - loss: 418.4629 - val_loss: 258.6630\n",
            "Epoch 3/100\n",
            "5/5 [==============================] - 0s 13ms/step - loss: 333.3004 - val_loss: 149.6043\n",
            "Epoch 4/100\n",
            "5/5 [==============================] - 0s 12ms/step - loss: 276.0273 - val_loss: 144.0690\n",
            "Epoch 5/100\n",
            "5/5 [==============================] - 0s 12ms/step - loss: 209.7179 - val_loss: 175.0184\n",
            "Epoch 6/100\n",
            "5/5 [==============================] - 0s 12ms/step - loss: 156.7851 - val_loss: 183.8345\n",
            "Epoch 7/100\n",
            "5/5 [==============================] - 0s 13ms/step - loss: 94.5045 - val_loss: 166.2575\n",
            "Epoch 8/100\n",
            "5/5 [==============================] - 0s 14ms/step - loss: 59.9137 - val_loss: 148.3298\n",
            "Epoch 9/100\n",
            "5/5 [==============================] - 0s 12ms/step - loss: 30.6672 - val_loss: 187.3999\n",
            "Epoch 10/100\n",
            "5/5 [==============================] - 0s 13ms/step - loss: 13.3240 - val_loss: 160.5691\n",
            "Epoch 11/100\n",
            "5/5 [==============================] - 0s 14ms/step - loss: 13.2466 - val_loss: 162.8450\n",
            "Epoch 12/100\n",
            "5/5 [==============================] - 0s 12ms/step - loss: 8.4636 - val_loss: 149.6287\n",
            "Epoch 13/100\n",
            "5/5 [==============================] - 0s 13ms/step - loss: 9.0247 - val_loss: 127.2722\n",
            "Epoch 14/100\n",
            "5/5 [==============================] - 0s 13ms/step - loss: 8.4830 - val_loss: 98.9438\n",
            "Epoch 15/100\n",
            "5/5 [==============================] - 0s 13ms/step - loss: 7.4816 - val_loss: 47.1665\n",
            "Epoch 16/100\n",
            "5/5 [==============================] - 0s 13ms/step - loss: 7.2272 - val_loss: 57.1574\n",
            "Epoch 17/100\n",
            "5/5 [==============================] - 0s 13ms/step - loss: 6.6406 - val_loss: 30.8123\n",
            "Epoch 18/100\n",
            "5/5 [==============================] - 0s 15ms/step - loss: 6.2795 - val_loss: 32.7617\n",
            "Epoch 19/100\n",
            "5/5 [==============================] - 0s 14ms/step - loss: 6.8519 - val_loss: 24.3781\n",
            "Epoch 20/100\n",
            "5/5 [==============================] - 0s 12ms/step - loss: 5.4554 - val_loss: 40.4060\n",
            "Epoch 21/100\n",
            "5/5 [==============================] - 0s 11ms/step - loss: 8.2973 - val_loss: 28.1098\n",
            "Epoch 22/100\n",
            "5/5 [==============================] - 0s 12ms/step - loss: 5.6405 - val_loss: 21.8135\n",
            "Epoch 23/100\n",
            "5/5 [==============================] - 0s 13ms/step - loss: 7.9700 - val_loss: 26.5109\n",
            "Epoch 24/100\n",
            "5/5 [==============================] - 0s 14ms/step - loss: 6.0321 - val_loss: 14.0648\n",
            "Epoch 25/100\n",
            "5/5 [==============================] - 0s 13ms/step - loss: 5.2089 - val_loss: 23.2116\n",
            "Epoch 26/100\n",
            "5/5 [==============================] - 0s 12ms/step - loss: 5.6820 - val_loss: 14.2195\n",
            "Epoch 27/100\n",
            "5/5 [==============================] - 0s 13ms/step - loss: 6.8735 - val_loss: 19.0610\n",
            "Epoch 28/100\n",
            "5/5 [==============================] - 0s 14ms/step - loss: 4.5439 - val_loss: 19.0016\n",
            "Epoch 29/100\n",
            "5/5 [==============================] - 0s 12ms/step - loss: 5.5085 - val_loss: 12.8085\n",
            "Epoch 30/100\n",
            "5/5 [==============================] - 0s 13ms/step - loss: 5.8844 - val_loss: 10.6199\n",
            "Epoch 31/100\n",
            "5/5 [==============================] - 0s 14ms/step - loss: 4.9706 - val_loss: 9.2004\n",
            "Epoch 32/100\n",
            "5/5 [==============================] - 0s 12ms/step - loss: 4.8767 - val_loss: 8.6820\n",
            "Epoch 33/100\n",
            "5/5 [==============================] - 0s 13ms/step - loss: 6.8844 - val_loss: 9.1863\n",
            "Epoch 34/100\n",
            "5/5 [==============================] - 0s 13ms/step - loss: 5.7271 - val_loss: 14.3386\n",
            "Epoch 35/100\n",
            "5/5 [==============================] - 0s 13ms/step - loss: 5.6693 - val_loss: 13.7199\n",
            "Epoch 36/100\n",
            "5/5 [==============================] - 0s 13ms/step - loss: 6.6482 - val_loss: 9.9038\n",
            "Epoch 37/100\n",
            "5/5 [==============================] - 0s 13ms/step - loss: 5.8188 - val_loss: 8.6795\n",
            "Epoch 38/100\n",
            "5/5 [==============================] - 0s 12ms/step - loss: 4.6674 - val_loss: 10.4198\n",
            "Epoch 39/100\n",
            "5/5 [==============================] - 0s 13ms/step - loss: 4.9666 - val_loss: 12.2649\n",
            "Epoch 40/100\n",
            "5/5 [==============================] - 0s 13ms/step - loss: 4.3622 - val_loss: 20.7973\n",
            "Epoch 41/100\n",
            "5/5 [==============================] - 0s 15ms/step - loss: 7.4869 - val_loss: 11.8563\n",
            "Epoch 42/100\n",
            "5/5 [==============================] - 0s 11ms/step - loss: 5.7740 - val_loss: 22.3158\n",
            "Epoch 43/100\n",
            "5/5 [==============================] - 0s 12ms/step - loss: 6.6540 - val_loss: 20.3749\n",
            "Epoch 44/100\n",
            "5/5 [==============================] - 0s 13ms/step - loss: 5.2169 - val_loss: 18.7701\n",
            "Epoch 45/100\n",
            "5/5 [==============================] - 0s 13ms/step - loss: 4.4089 - val_loss: 14.7349\n",
            "Epoch 46/100\n",
            "5/5 [==============================] - 0s 11ms/step - loss: 3.5344 - val_loss: 11.5273\n",
            "Epoch 47/100\n",
            "5/5 [==============================] - 0s 12ms/step - loss: 4.6506 - val_loss: 11.0721\n",
            "Epoch 48/100\n",
            "5/5 [==============================] - 0s 12ms/step - loss: 5.2272 - val_loss: 12.3475\n",
            "Epoch 49/100\n",
            "5/5 [==============================] - 0s 12ms/step - loss: 3.7788 - val_loss: 9.6440\n",
            "Epoch 50/100\n",
            "5/5 [==============================] - 0s 15ms/step - loss: 3.1088 - val_loss: 9.2725\n",
            "Epoch 51/100\n",
            "5/5 [==============================] - 0s 13ms/step - loss: 6.0266 - val_loss: 9.4943\n",
            "Epoch 52/100\n",
            "5/5 [==============================] - 0s 13ms/step - loss: 3.9719 - val_loss: 10.5320\n",
            "Epoch 53/100\n",
            "5/5 [==============================] - 0s 14ms/step - loss: 3.1157 - val_loss: 9.9928\n",
            "Epoch 54/100\n",
            "5/5 [==============================] - 0s 12ms/step - loss: 3.9354 - val_loss: 8.9821\n",
            "Epoch 55/100\n",
            "5/5 [==============================] - 0s 13ms/step - loss: 5.9571 - val_loss: 8.2999\n",
            "Epoch 56/100\n",
            "5/5 [==============================] - 0s 13ms/step - loss: 6.4043 - val_loss: 6.8908\n",
            "Epoch 57/100\n",
            "5/5 [==============================] - 0s 13ms/step - loss: 5.9265 - val_loss: 7.7459\n",
            "Epoch 58/100\n",
            "5/5 [==============================] - 0s 13ms/step - loss: 3.9378 - val_loss: 9.5146\n",
            "Epoch 59/100\n",
            "5/5 [==============================] - 0s 12ms/step - loss: 4.2895 - val_loss: 6.6724\n",
            "Epoch 60/100\n",
            "5/5 [==============================] - 0s 15ms/step - loss: 3.5692 - val_loss: 7.3502\n",
            "Epoch 61/100\n",
            "5/5 [==============================] - 0s 15ms/step - loss: 4.3375 - val_loss: 5.9919\n",
            "Epoch 62/100\n",
            "5/5 [==============================] - 0s 13ms/step - loss: 3.2560 - val_loss: 7.2949\n",
            "Epoch 63/100\n",
            "5/5 [==============================] - 0s 12ms/step - loss: 3.7720 - val_loss: 6.1794\n",
            "Epoch 64/100\n",
            "5/5 [==============================] - 0s 13ms/step - loss: 3.6795 - val_loss: 5.6760\n",
            "Epoch 65/100\n",
            "5/5 [==============================] - 0s 13ms/step - loss: 4.8890 - val_loss: 6.5515\n",
            "Epoch 66/100\n",
            "5/5 [==============================] - 0s 14ms/step - loss: 3.4117 - val_loss: 6.7051\n",
            "Epoch 67/100\n",
            "5/5 [==============================] - 0s 14ms/step - loss: 4.0864 - val_loss: 7.1504\n",
            "Epoch 68/100\n",
            "5/5 [==============================] - 0s 13ms/step - loss: 3.1908 - val_loss: 6.4322\n",
            "Epoch 69/100\n",
            "5/5 [==============================] - 0s 13ms/step - loss: 3.5944 - val_loss: 5.5464\n",
            "Epoch 70/100\n",
            "5/5 [==============================] - 0s 13ms/step - loss: 3.2467 - val_loss: 5.6742\n",
            "Epoch 71/100\n",
            "5/5 [==============================] - 0s 13ms/step - loss: 3.0183 - val_loss: 6.6245\n",
            "Epoch 72/100\n",
            "5/5 [==============================] - 0s 13ms/step - loss: 3.4115 - val_loss: 6.2461\n",
            "Epoch 73/100\n",
            "5/5 [==============================] - 0s 14ms/step - loss: 3.6529 - val_loss: 5.3643\n",
            "Epoch 74/100\n",
            "5/5 [==============================] - 0s 14ms/step - loss: 3.1583 - val_loss: 5.0738\n",
            "Epoch 75/100\n",
            "5/5 [==============================] - 0s 15ms/step - loss: 3.4149 - val_loss: 6.3226\n",
            "Epoch 76/100\n",
            "5/5 [==============================] - 0s 15ms/step - loss: 3.1529 - val_loss: 5.8322\n",
            "Epoch 77/100\n",
            "5/5 [==============================] - 0s 12ms/step - loss: 3.2043 - val_loss: 5.7172\n",
            "Epoch 78/100\n",
            "5/5 [==============================] - 0s 14ms/step - loss: 3.8674 - val_loss: 5.5684\n",
            "Epoch 79/100\n",
            "5/5 [==============================] - 0s 14ms/step - loss: 3.2238 - val_loss: 6.0370\n",
            "Epoch 80/100\n",
            "5/5 [==============================] - 0s 14ms/step - loss: 2.6943 - val_loss: 5.2127\n",
            "Epoch 81/100\n",
            "5/5 [==============================] - 0s 13ms/step - loss: 2.7807 - val_loss: 5.2326\n",
            "Epoch 82/100\n",
            "5/5 [==============================] - 0s 13ms/step - loss: 3.6692 - val_loss: 6.6631\n",
            "Epoch 83/100\n",
            "5/5 [==============================] - 0s 13ms/step - loss: 3.7439 - val_loss: 5.1569\n",
            "Epoch 84/100\n",
            "5/5 [==============================] - 0s 14ms/step - loss: 2.8028 - val_loss: 5.3512\n",
            "Epoch 85/100\n",
            "5/5 [==============================] - 0s 15ms/step - loss: 3.5603 - val_loss: 5.4701\n",
            "Epoch 86/100\n",
            "5/5 [==============================] - 0s 12ms/step - loss: 3.1584 - val_loss: 5.4510\n",
            "Epoch 87/100\n",
            "5/5 [==============================] - 0s 12ms/step - loss: 3.5141 - val_loss: 6.6051\n",
            "Epoch 88/100\n",
            "5/5 [==============================] - 0s 12ms/step - loss: 3.8783 - val_loss: 8.0242\n",
            "Epoch 89/100\n",
            "5/5 [==============================] - 0s 13ms/step - loss: 2.5876 - val_loss: 5.2894\n",
            "Epoch 90/100\n",
            "5/5 [==============================] - 0s 13ms/step - loss: 2.9644 - val_loss: 5.4139\n",
            "Epoch 91/100\n",
            "5/5 [==============================] - 0s 13ms/step - loss: 3.9954 - val_loss: 7.7527\n",
            "Epoch 92/100\n",
            "5/5 [==============================] - 0s 14ms/step - loss: 4.5683 - val_loss: 5.7916\n",
            "Epoch 93/100\n",
            "5/5 [==============================] - 0s 11ms/step - loss: 2.3743 - val_loss: 10.5998\n",
            "Epoch 94/100\n",
            "5/5 [==============================] - 0s 13ms/step - loss: 3.5301 - val_loss: 5.8827\n",
            "Epoch 95/100\n",
            "5/5 [==============================] - 0s 12ms/step - loss: 5.5627 - val_loss: 7.1827\n",
            "Epoch 96/100\n",
            "5/5 [==============================] - 0s 13ms/step - loss: 2.6673 - val_loss: 5.5038\n",
            "Epoch 97/100\n",
            "5/5 [==============================] - 0s 14ms/step - loss: 2.8156 - val_loss: 5.5057\n",
            "Epoch 98/100\n",
            "5/5 [==============================] - 0s 13ms/step - loss: 2.1182 - val_loss: 5.7675\n",
            "Epoch 99/100\n",
            "5/5 [==============================] - 0s 14ms/step - loss: 3.3965 - val_loss: 5.5580\n",
            "Epoch 100/100\n",
            "5/5 [==============================] - 0s 13ms/step - loss: 3.9561 - val_loss: 4.9615\n"
          ],
          "name": "stdout"
        },
        {
          "output_type": "display_data",
          "data": {
            "image/png": "[encoded data removed]",
            "text/plain": [
              "<Figure size 432x288 with 1 Axes>"
            ]
          },
          "metadata": {
            "tags": [],
            "needs_background": "light"
          }
        },
        {
          "output_type": "stream",
          "text": [
            "Testing\n",
            "4/4 - 0s - loss: 4.8147\n"
          ],
          "name": "stdout"
        },
        {
          "output_type": "execute_result",
          "data": {
            "text/plain": [
              "4.814663410186768"
            ]
          },
          "metadata": {
            "tags": []
          },
          "execution_count": 82
        }
      ]
    },
    {
      "cell_type": "markdown",
      "metadata": {
        "id": "K1_3n7QtBgRk"
      },
      "source": [
        "The best result of MLP is much better than the others methods, and I think the main reason is that MLP can better handle the complexe dataset, because it has so many parameters to train. However, the variance of this method is also very large, and the result varies a lot."
      ]
    },
    {
      "cell_type": "markdown",
      "metadata": {
        "id": "sKwLmVitB1Uy"
      },
      "source": [
        "# Conlusion"
      ]
    },
    {
      "cell_type": "markdown",
      "metadata": {
        "id": "1ue4ZQAIB4aj"
      },
      "source": [
        "In this dataset, the MLP method get the best result which is 4.81 mesured by mse. I think this is because regression is much harder task than classification, and we need a more complexe model to get a good result.\n",
        "\n",
        "Interesting thing is the best models in our 3 datasets are very different:\n",
        "\n",
        "- Quick draw: CNN\n",
        "- Action recognition: Boosting\n",
        "- Boston pricing: MLP\n",
        "\n",
        "Therefore, it's hard to say which method is always the best, because the datasets are very different, and the best model really depends on the data. "
      ]
    }
  ]
}